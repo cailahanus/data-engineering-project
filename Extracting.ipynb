{
 "cells": [
  {
   "cell_type": "code",
   "execution_count": 153,
   "metadata": {},
   "outputs": [],
   "source": [
    "#import libraries\n",
    "import pandas as pd"
   ]
  },
  {
   "cell_type": "markdown",
   "metadata": {},
   "source": [
    "## Step One: Exploring the data. \n",
    "Checking if data has any null values in any of the cells."
   ]
  },
  {
   "cell_type": "code",
   "execution_count": 154,
   "metadata": {},
   "outputs": [
    {
     "data": {
      "text/html": [
       "<div>\n",
       "<style scoped>\n",
       "    .dataframe tbody tr th:only-of-type {\n",
       "        vertical-align: middle;\n",
       "    }\n",
       "\n",
       "    .dataframe tbody tr th {\n",
       "        vertical-align: top;\n",
       "    }\n",
       "\n",
       "    .dataframe thead th {\n",
       "        text-align: right;\n",
       "    }\n",
       "</style>\n",
       "<table border=\"1\" class=\"dataframe\">\n",
       "  <thead>\n",
       "    <tr style=\"text-align: right;\">\n",
       "      <th></th>\n",
       "      <th>indicator_id</th>\n",
       "      <th>indicator</th>\n",
       "      <th>category</th>\n",
       "    </tr>\n",
       "  </thead>\n",
       "  <tbody>\n",
       "    <tr>\n",
       "      <th>0</th>\n",
       "      <td>MRAM</td>\n",
       "      <td>Mean Days to Pending (Raw, All Homes, Monthly)</td>\n",
       "      <td>Inventory and sales</td>\n",
       "    </tr>\n",
       "    <tr>\n",
       "      <th>1</th>\n",
       "      <td>SSSW</td>\n",
       "      <td>Median Sale Price (Smooth, SFR only, Weekly View)</td>\n",
       "      <td>Inventory and sales</td>\n",
       "    </tr>\n",
       "    <tr>\n",
       "      <th>2</th>\n",
       "      <td>LSSM</td>\n",
       "      <td>Median List Price (Smooth, SFR Only, Monthly)</td>\n",
       "      <td>Inventory and sales</td>\n",
       "    </tr>\n",
       "    <tr>\n",
       "      <th>3</th>\n",
       "      <td>CSAW</td>\n",
       "      <td>Share of Listings With a Price Cut (Smooth, Al...</td>\n",
       "      <td>Inventory and sales</td>\n",
       "    </tr>\n",
       "    <tr>\n",
       "      <th>4</th>\n",
       "      <td>ISSM</td>\n",
       "      <td>For-Sale Inventory (Smooth, SFR only, Monthly)</td>\n",
       "      <td>Inventory and sales</td>\n",
       "    </tr>\n",
       "  </tbody>\n",
       "</table>\n",
       "</div>"
      ],
      "text/plain": [
       "  indicator_id                                          indicator  \\\n",
       "0         MRAM     Mean Days to Pending (Raw, All Homes, Monthly)   \n",
       "1         SSSW  Median Sale Price (Smooth, SFR only, Weekly View)   \n",
       "2         LSSM      Median List Price (Smooth, SFR Only, Monthly)   \n",
       "3         CSAW  Share of Listings With a Price Cut (Smooth, Al...   \n",
       "4         ISSM     For-Sale Inventory (Smooth, SFR only, Monthly)   \n",
       "\n",
       "              category  \n",
       "0  Inventory and sales  \n",
       "1  Inventory and sales  \n",
       "2  Inventory and sales  \n",
       "3  Inventory and sales  \n",
       "4  Inventory and sales  "
      ]
     },
     "execution_count": 154,
     "metadata": {},
     "output_type": "execute_result"
    }
   ],
   "source": [
    "#create indicator ID DataFrame\n",
    "indicator_df= pd.read_csv('Resources/Zillow_Indicators.csv')\n",
    "\n",
    "#Display sample data\n",
    "indicator_df.head()"
   ]
  },
  {
   "cell_type": "code",
   "execution_count": 155,
   "metadata": {},
   "outputs": [
    {
     "data": {
      "text/plain": [
       "indicator_id    56\n",
       "indicator       56\n",
       "category        56\n",
       "dtype: int64"
      ]
     },
     "execution_count": 155,
     "metadata": {},
     "output_type": "execute_result"
    }
   ],
   "source": [
    "indicator_df.count()"
   ]
  },
  {
   "cell_type": "code",
   "execution_count": 156,
   "metadata": {},
   "outputs": [
    {
     "data": {
      "text/html": [
       "<div>\n",
       "<style scoped>\n",
       "    .dataframe tbody tr th:only-of-type {\n",
       "        vertical-align: middle;\n",
       "    }\n",
       "\n",
       "    .dataframe tbody tr th {\n",
       "        vertical-align: top;\n",
       "    }\n",
       "\n",
       "    .dataframe thead th {\n",
       "        text-align: right;\n",
       "    }\n",
       "</style>\n",
       "<table border=\"1\" class=\"dataframe\">\n",
       "  <thead>\n",
       "    <tr style=\"text-align: right;\">\n",
       "      <th></th>\n",
       "      <th>region_id</th>\n",
       "      <th>region_type</th>\n",
       "      <th>region</th>\n",
       "    </tr>\n",
       "  </thead>\n",
       "  <tbody>\n",
       "    <tr>\n",
       "      <th>0</th>\n",
       "      <td>1286</td>\n",
       "      <td>county</td>\n",
       "      <td>Orange County;CA;Los Angeles-Long Beach-Anahei...</td>\n",
       "    </tr>\n",
       "    <tr>\n",
       "      <th>1</th>\n",
       "      <td>3175</td>\n",
       "      <td>county</td>\n",
       "      <td>Philadelphia County;PA;Philadelphia-Camden-Wil...</td>\n",
       "    </tr>\n",
       "    <tr>\n",
       "      <th>2</th>\n",
       "      <td>3017</td>\n",
       "      <td>county</td>\n",
       "      <td>Sacramento County;CA;Sacramento-Roseville-Fols...</td>\n",
       "    </tr>\n",
       "    <tr>\n",
       "      <th>3</th>\n",
       "      <td>401</td>\n",
       "      <td>county</td>\n",
       "      <td>Bronx County;NY;New York-Newark-Jersey City, N...</td>\n",
       "    </tr>\n",
       "    <tr>\n",
       "      <th>4</th>\n",
       "      <td>3165</td>\n",
       "      <td>county</td>\n",
       "      <td>Hillsborough County;FL;Tampa-St. Petersburg-Cl...</td>\n",
       "    </tr>\n",
       "  </tbody>\n",
       "</table>\n",
       "</div>"
      ],
      "text/plain": [
       "   region_id region_type                                             region\n",
       "0       1286      county  Orange County;CA;Los Angeles-Long Beach-Anahei...\n",
       "1       3175      county  Philadelphia County;PA;Philadelphia-Camden-Wil...\n",
       "2       3017      county  Sacramento County;CA;Sacramento-Roseville-Fols...\n",
       "3        401      county  Bronx County;NY;New York-Newark-Jersey City, N...\n",
       "4       3165      county  Hillsborough County;FL;Tampa-St. Petersburg-Cl..."
      ]
     },
     "execution_count": 156,
     "metadata": {},
     "output_type": "execute_result"
    }
   ],
   "source": [
    "#Regions DataFrame\n",
    "regions_df= pd.read_csv('Resources/Zillow_Regions.csv')\n",
    "\n",
    "#Display Sample Data\n",
    "regions_df.head()"
   ]
  },
  {
   "cell_type": "code",
   "execution_count": 157,
   "metadata": {},
   "outputs": [
    {
     "data": {
      "text/plain": [
       "region_id      89305\n",
       "region_type    89305\n",
       "region         89305\n",
       "dtype: int64"
      ]
     },
     "execution_count": 157,
     "metadata": {},
     "output_type": "execute_result"
    }
   ],
   "source": [
    "regions_df.count()"
   ]
  },
  {
   "cell_type": "code",
   "execution_count": 158,
   "metadata": {},
   "outputs": [
    {
     "data": {
      "text/plain": [
       "array(['county', 'metro', 'state', 'neigh', 'city', 'zip'], dtype=object)"
      ]
     },
     "execution_count": 158,
     "metadata": {},
     "output_type": "execute_result"
    }
   ],
   "source": [
    "region_types= regions_df['region_type'].unique()\n",
    "region_types"
   ]
  },
  {
   "cell_type": "code",
   "execution_count": 159,
   "metadata": {},
   "outputs": [
    {
     "data": {
      "text/html": [
       "<div>\n",
       "<style scoped>\n",
       "    .dataframe tbody tr th:only-of-type {\n",
       "        vertical-align: middle;\n",
       "    }\n",
       "\n",
       "    .dataframe tbody tr th {\n",
       "        vertical-align: top;\n",
       "    }\n",
       "\n",
       "    .dataframe thead th {\n",
       "        text-align: right;\n",
       "    }\n",
       "</style>\n",
       "<table border=\"1\" class=\"dataframe\">\n",
       "  <thead>\n",
       "    <tr style=\"text-align: right;\">\n",
       "      <th></th>\n",
       "      <th>indicator_id</th>\n",
       "      <th>region_id</th>\n",
       "      <th>date</th>\n",
       "      <th>value</th>\n",
       "    </tr>\n",
       "  </thead>\n",
       "  <tbody>\n",
       "    <tr>\n",
       "      <th>0</th>\n",
       "      <td>Z4BR</td>\n",
       "      <td>403211</td>\n",
       "      <td>2/28/2021</td>\n",
       "      <td>477466.00000</td>\n",
       "    </tr>\n",
       "    <tr>\n",
       "      <th>1</th>\n",
       "      <td>ZALL</td>\n",
       "      <td>26591</td>\n",
       "      <td>11/30/2005</td>\n",
       "      <td>76985.30089</td>\n",
       "    </tr>\n",
       "    <tr>\n",
       "      <th>2</th>\n",
       "      <td>ZALL</td>\n",
       "      <td>3986</td>\n",
       "      <td>11/30/2005</td>\n",
       "      <td>176636.58420</td>\n",
       "    </tr>\n",
       "    <tr>\n",
       "      <th>3</th>\n",
       "      <td>ZALL</td>\n",
       "      <td>6626</td>\n",
       "      <td>11/30/2005</td>\n",
       "      <td>161867.51640</td>\n",
       "    </tr>\n",
       "    <tr>\n",
       "      <th>4</th>\n",
       "      <td>ZALL</td>\n",
       "      <td>49285</td>\n",
       "      <td>11/30/2005</td>\n",
       "      <td>191388.10450</td>\n",
       "    </tr>\n",
       "  </tbody>\n",
       "</table>\n",
       "</div>"
      ],
      "text/plain": [
       "  indicator_id  region_id        date         value\n",
       "0         Z4BR     403211   2/28/2021  477466.00000\n",
       "1         ZALL      26591  11/30/2005   76985.30089\n",
       "2         ZALL       3986  11/30/2005  176636.58420\n",
       "3         ZALL       6626  11/30/2005  161867.51640\n",
       "4         ZALL      49285  11/30/2005  191388.10450"
      ]
     },
     "execution_count": 159,
     "metadata": {},
     "output_type": "execute_result"
    }
   ],
   "source": [
    "#Data DataFrame\n",
    "data_df= pd.read_csv('Resources/Zillow_Data.csv')\n",
    "\n",
    "#Display Data\n",
    "data_df.head()"
   ]
  },
  {
   "cell_type": "code",
   "execution_count": 160,
   "metadata": {},
   "outputs": [
    {
     "data": {
      "text/plain": [
       "indicator_id    1048575\n",
       "region_id       1048575\n",
       "date            1048575\n",
       "value           1048575\n",
       "dtype: int64"
      ]
     },
     "execution_count": 160,
     "metadata": {},
     "output_type": "execute_result"
    }
   ],
   "source": [
    "data_df.count()"
   ]
  },
  {
   "cell_type": "markdown",
   "metadata": {},
   "source": [
    "## Step Two: Cleaning Data\n",
    "- Cleaning the data to be utilized all together "
   ]
  },
  {
   "cell_type": "code",
   "execution_count": 161,
   "metadata": {},
   "outputs": [
    {
     "name": "stdout",
     "output_type": "stream",
     "text": [
      "28\n",
      "['Z4BR' 'ZALL' 'ZCON' 'ZSFH' 'Z3BR' 'IRAW' 'SAAW' 'MRAM' 'Z2BR' 'ZATT'\n",
      " 'SSSW' 'LSSM' 'CSAW' 'ZABT' 'SASW' 'MRAW' 'LRAM' 'ISSW' 'MSAW' 'LSAM'\n",
      " 'NRAW' 'NSAW' 'SRAM' 'SSAM' 'NSAM' 'CRAM' 'Z5BR' 'NRAM']\n",
      "indicator_id    1048575\n",
      "indicator       1048575\n",
      "category        1048575\n",
      "dtype: int64\n"
     ]
    }
   ],
   "source": [
    "# Merge to complete a lookup of valid indicators_ID's\n",
    "valid_indicators = pd.merge(data_df[['indicator_id']],indicator_df, on='indicator_id', how='inner')\n",
    "print(valid_indicators['indicator_id'].nunique())\n",
    "print(valid_indicators['indicator_id'].unique())\n",
    "print(valid_indicators.count())"
   ]
  },
  {
   "cell_type": "code",
   "execution_count": 162,
   "metadata": {},
   "outputs": [
    {
     "name": "stdout",
     "output_type": "stream",
     "text": [
      "27878\n",
      "[403211  26591   3986 ...  77520  90736  66116]\n",
      "region_id      1048575\n",
      "region_type    1048575\n",
      "region         1048575\n",
      "dtype: int64\n"
     ]
    }
   ],
   "source": [
    "#Merge to complete a lookup of valid region_ID's\n",
    "valid_region= pd.merge(data_df['region_id'], regions_df, on= \"region_id\", how= 'inner')\n",
    "print(valid_region['region_id'].nunique())\n",
    "print(valid_region['region_id'].unique())\n",
    "print(valid_region.count())"
   ]
  },
  {
   "cell_type": "code",
   "execution_count": 163,
   "metadata": {},
   "outputs": [
    {
     "name": "stdout",
     "output_type": "stream",
     "text": [
      "28\n"
     ]
    }
   ],
   "source": [
    "#Triple merge to complete a lookup of valid data\n",
    "valid_data= pd.merge(data_df, indicator_df[['indicator_id']], on='indicator_id', how='inner')\n",
    "Clean_data= pd.merge(valid_data, regions_df[['region_id']], on='region_id', how='inner')\n",
    "print(Clean_data['indicator_id'].nunique())\n"
   ]
  },
  {
   "cell_type": "code",
   "execution_count": 164,
   "metadata": {},
   "outputs": [
    {
     "name": "stdout",
     "output_type": "stream",
     "text": [
      "indicator_id    28\n",
      "indicator       28\n",
      "category        28\n",
      "dtype: int64\n"
     ]
    }
   ],
   "source": [
    "#creating the clean CSV files for indicator and regions\n",
    "#valid_indicators.head()\n",
    "#Drop the duplicates (This list should only have 1 Id each indicators)\n",
    "valid_indicators= valid_indicators.drop_duplicates(subset=['indicator_id'])\n",
    "print(valid_indicators.count())\n"
   ]
  },
  {
   "cell_type": "code",
   "execution_count": 165,
   "metadata": {},
   "outputs": [
    {
     "name": "stdout",
     "output_type": "stream",
     "text": [
      "region_id      27878\n",
      "region_type    27878\n",
      "region         27878\n",
      "dtype: int64\n"
     ]
    }
   ],
   "source": [
    "#valid_region.head()\n",
    "#Drop the duplicates (This list should only have 1 Id each indicators)\n",
    "valid_region=valid_region.drop_duplicates(subset=['region_id'])\n",
    "print(valid_region.count())"
   ]
  },
  {
   "cell_type": "code",
   "execution_count": 166,
   "metadata": {},
   "outputs": [
    {
     "data": {
      "text/html": [
       "<div>\n",
       "<style scoped>\n",
       "    .dataframe tbody tr th:only-of-type {\n",
       "        vertical-align: middle;\n",
       "    }\n",
       "\n",
       "    .dataframe tbody tr th {\n",
       "        vertical-align: top;\n",
       "    }\n",
       "\n",
       "    .dataframe thead th {\n",
       "        text-align: right;\n",
       "    }\n",
       "</style>\n",
       "<table border=\"1\" class=\"dataframe\">\n",
       "  <thead>\n",
       "    <tr style=\"text-align: right;\">\n",
       "      <th></th>\n",
       "      <th>indicator_id</th>\n",
       "      <th>region_id</th>\n",
       "      <th>date</th>\n",
       "      <th>value</th>\n",
       "    </tr>\n",
       "  </thead>\n",
       "  <tbody>\n",
       "    <tr>\n",
       "      <th>0</th>\n",
       "      <td>Z4BR</td>\n",
       "      <td>403211</td>\n",
       "      <td>2/28/2021</td>\n",
       "      <td>477466.0</td>\n",
       "    </tr>\n",
       "    <tr>\n",
       "      <th>1</th>\n",
       "      <td>Z4BR</td>\n",
       "      <td>271495</td>\n",
       "      <td>2/28/2021</td>\n",
       "      <td>1119735.0</td>\n",
       "    </tr>\n",
       "    <tr>\n",
       "      <th>2</th>\n",
       "      <td>Z4BR</td>\n",
       "      <td>343208</td>\n",
       "      <td>2/28/2021</td>\n",
       "      <td>646941.0</td>\n",
       "    </tr>\n",
       "    <tr>\n",
       "      <th>3</th>\n",
       "      <td>Z4BR</td>\n",
       "      <td>270891</td>\n",
       "      <td>2/28/2021</td>\n",
       "      <td>1379098.0</td>\n",
       "    </tr>\n",
       "    <tr>\n",
       "      <th>4</th>\n",
       "      <td>Z4BR</td>\n",
       "      <td>403295</td>\n",
       "      <td>2/28/2021</td>\n",
       "      <td>764876.0</td>\n",
       "    </tr>\n",
       "  </tbody>\n",
       "</table>\n",
       "</div>"
      ],
      "text/plain": [
       "  indicator_id  region_id       date      value\n",
       "0         Z4BR     403211  2/28/2021   477466.0\n",
       "1         Z4BR     271495  2/28/2021  1119735.0\n",
       "2         Z4BR     343208  2/28/2021   646941.0\n",
       "3         Z4BR     270891  2/28/2021  1379098.0\n",
       "4         Z4BR     403295  2/28/2021   764876.0"
      ]
     },
     "execution_count": 166,
     "metadata": {},
     "output_type": "execute_result"
    }
   ],
   "source": [
    "Clean_data.head()"
   ]
  },
  {
   "cell_type": "code",
   "execution_count": 167,
   "metadata": {},
   "outputs": [],
   "source": [
    "#creating paths to the new CSV files\n",
    "path = 'Clean_data/Indicators.csv'\n",
    "path2= 'Clean_data/Regions.csv'\n",
    "path3= 'Clean_data/Data.csv'"
   ]
  },
  {
   "cell_type": "code",
   "execution_count": 168,
   "metadata": {},
   "outputs": [
    {
     "name": "stdout",
     "output_type": "stream",
     "text": [
      "File saved at Clean_data/Indicators.csv\n"
     ]
    }
   ],
   "source": [
    "#indicators CSV\n",
    "valid_indicators.to_csv(path, index=False)\n",
    "\n",
    "print(f'File saved at {path}')"
   ]
  },
  {
   "cell_type": "code",
   "execution_count": 169,
   "metadata": {},
   "outputs": [
    {
     "name": "stdout",
     "output_type": "stream",
     "text": [
      "File saved at Clean_data/Regions.csv\n"
     ]
    }
   ],
   "source": [
    "#regions CSV\n",
    "valid_region.to_csv(path2, index=False)\n",
    "\n",
    "print(f'File saved at {path2}')"
   ]
  },
  {
   "cell_type": "code",
   "execution_count": 170,
   "metadata": {},
   "outputs": [
    {
     "name": "stdout",
     "output_type": "stream",
     "text": [
      "File saved at Clean_data/Data.csv\n"
     ]
    }
   ],
   "source": [
    "#Data CSV\n",
    "Clean_data.to_csv(path3, index=False)\n",
    "\n",
    "print(f'File saved at {path3}')"
   ]
  }
 ],
 "metadata": {
  "kernelspec": {
   "display_name": "dev",
   "language": "python",
   "name": "python3"
  },
  "language_info": {
   "codemirror_mode": {
    "name": "ipython",
    "version": 3
   },
   "file_extension": ".py",
   "mimetype": "text/x-python",
   "name": "python",
   "nbconvert_exporter": "python",
   "pygments_lexer": "ipython3",
   "version": "3.10.13"
  }
 },
 "nbformat": 4,
 "nbformat_minor": 2
}
