{
 "cells": [
  {
   "cell_type": "code",
   "execution_count": 68,
   "metadata": {},
   "outputs": [],
   "source": [
    "#import libraries\n",
    "import pandas as pd"
   ]
  },
  {
   "cell_type": "markdown",
   "metadata": {},
   "source": [
    "## Step One: Exploring the data. \n",
    "Checking if data has any null values in any of the cells."
   ]
  },
  {
   "cell_type": "code",
   "execution_count": 69,
   "metadata": {},
   "outputs": [
    {
     "data": {
      "text/html": [
       "<div>\n",
       "<style scoped>\n",
       "    .dataframe tbody tr th:only-of-type {\n",
       "        vertical-align: middle;\n",
       "    }\n",
       "\n",
       "    .dataframe tbody tr th {\n",
       "        vertical-align: top;\n",
       "    }\n",
       "\n",
       "    .dataframe thead th {\n",
       "        text-align: right;\n",
       "    }\n",
       "</style>\n",
       "<table border=\"1\" class=\"dataframe\">\n",
       "  <thead>\n",
       "    <tr style=\"text-align: right;\">\n",
       "      <th></th>\n",
       "      <th>indicator_id</th>\n",
       "      <th>indicator</th>\n",
       "      <th>category</th>\n",
       "    </tr>\n",
       "  </thead>\n",
       "  <tbody>\n",
       "    <tr>\n",
       "      <th>0</th>\n",
       "      <td>MRAM</td>\n",
       "      <td>Mean Days to Pending (Raw, All Homes, Monthly)</td>\n",
       "      <td>Inventory and sales</td>\n",
       "    </tr>\n",
       "    <tr>\n",
       "      <th>1</th>\n",
       "      <td>SSSW</td>\n",
       "      <td>Median Sale Price (Smooth, SFR only, Weekly View)</td>\n",
       "      <td>Inventory and sales</td>\n",
       "    </tr>\n",
       "    <tr>\n",
       "      <th>2</th>\n",
       "      <td>LSSM</td>\n",
       "      <td>Median List Price (Smooth, SFR Only, Monthly)</td>\n",
       "      <td>Inventory and sales</td>\n",
       "    </tr>\n",
       "    <tr>\n",
       "      <th>3</th>\n",
       "      <td>CSAW</td>\n",
       "      <td>Share of Listings With a Price Cut (Smooth, Al...</td>\n",
       "      <td>Inventory and sales</td>\n",
       "    </tr>\n",
       "    <tr>\n",
       "      <th>4</th>\n",
       "      <td>ISSM</td>\n",
       "      <td>For-Sale Inventory (Smooth, SFR only, Monthly)</td>\n",
       "      <td>Inventory and sales</td>\n",
       "    </tr>\n",
       "  </tbody>\n",
       "</table>\n",
       "</div>"
      ],
      "text/plain": [
       "  indicator_id                                          indicator  \\\n",
       "0         MRAM     Mean Days to Pending (Raw, All Homes, Monthly)   \n",
       "1         SSSW  Median Sale Price (Smooth, SFR only, Weekly View)   \n",
       "2         LSSM      Median List Price (Smooth, SFR Only, Monthly)   \n",
       "3         CSAW  Share of Listings With a Price Cut (Smooth, Al...   \n",
       "4         ISSM     For-Sale Inventory (Smooth, SFR only, Monthly)   \n",
       "\n",
       "              category  \n",
       "0  Inventory and sales  \n",
       "1  Inventory and sales  \n",
       "2  Inventory and sales  \n",
       "3  Inventory and sales  \n",
       "4  Inventory and sales  "
      ]
     },
     "execution_count": 69,
     "metadata": {},
     "output_type": "execute_result"
    }
   ],
   "source": [
    "#create indicator ID DataFrame\n",
    "indicator_df= pd.read_csv('Resources/Zillow_Indicators.csv')\n",
    "\n",
    "#Display sample data\n",
    "indicator_df.head()"
   ]
  },
  {
   "cell_type": "code",
   "execution_count": 70,
   "metadata": {},
   "outputs": [
    {
     "data": {
      "text/plain": [
       "indicator_id    56\n",
       "indicator       56\n",
       "category        56\n",
       "dtype: int64"
      ]
     },
     "execution_count": 70,
     "metadata": {},
     "output_type": "execute_result"
    }
   ],
   "source": [
    "indicator_df.count()"
   ]
  },
  {
   "cell_type": "code",
   "execution_count": 71,
   "metadata": {},
   "outputs": [
    {
     "data": {
      "text/html": [
       "<div>\n",
       "<style scoped>\n",
       "    .dataframe tbody tr th:only-of-type {\n",
       "        vertical-align: middle;\n",
       "    }\n",
       "\n",
       "    .dataframe tbody tr th {\n",
       "        vertical-align: top;\n",
       "    }\n",
       "\n",
       "    .dataframe thead th {\n",
       "        text-align: right;\n",
       "    }\n",
       "</style>\n",
       "<table border=\"1\" class=\"dataframe\">\n",
       "  <thead>\n",
       "    <tr style=\"text-align: right;\">\n",
       "      <th></th>\n",
       "      <th>region_id</th>\n",
       "      <th>region_type</th>\n",
       "      <th>region</th>\n",
       "    </tr>\n",
       "  </thead>\n",
       "  <tbody>\n",
       "    <tr>\n",
       "      <th>0</th>\n",
       "      <td>1286</td>\n",
       "      <td>county</td>\n",
       "      <td>Orange County;CA;Los Angeles-Long Beach-Anahei...</td>\n",
       "    </tr>\n",
       "    <tr>\n",
       "      <th>1</th>\n",
       "      <td>3175</td>\n",
       "      <td>county</td>\n",
       "      <td>Philadelphia County;PA;Philadelphia-Camden-Wil...</td>\n",
       "    </tr>\n",
       "    <tr>\n",
       "      <th>2</th>\n",
       "      <td>3017</td>\n",
       "      <td>county</td>\n",
       "      <td>Sacramento County;CA;Sacramento-Roseville-Fols...</td>\n",
       "    </tr>\n",
       "    <tr>\n",
       "      <th>3</th>\n",
       "      <td>401</td>\n",
       "      <td>county</td>\n",
       "      <td>Bronx County;NY;New York-Newark-Jersey City, N...</td>\n",
       "    </tr>\n",
       "    <tr>\n",
       "      <th>4</th>\n",
       "      <td>3165</td>\n",
       "      <td>county</td>\n",
       "      <td>Hillsborough County;FL;Tampa-St. Petersburg-Cl...</td>\n",
       "    </tr>\n",
       "  </tbody>\n",
       "</table>\n",
       "</div>"
      ],
      "text/plain": [
       "   region_id region_type                                             region\n",
       "0       1286      county  Orange County;CA;Los Angeles-Long Beach-Anahei...\n",
       "1       3175      county  Philadelphia County;PA;Philadelphia-Camden-Wil...\n",
       "2       3017      county  Sacramento County;CA;Sacramento-Roseville-Fols...\n",
       "3        401      county  Bronx County;NY;New York-Newark-Jersey City, N...\n",
       "4       3165      county  Hillsborough County;FL;Tampa-St. Petersburg-Cl..."
      ]
     },
     "execution_count": 71,
     "metadata": {},
     "output_type": "execute_result"
    }
   ],
   "source": [
    "#Regions DataFrame\n",
    "regions_df= pd.read_csv('Resources/Zillow_Regions.csv')\n",
    "\n",
    "#Display Sample Data\n",
    "regions_df.head()"
   ]
  },
  {
   "cell_type": "code",
   "execution_count": 72,
   "metadata": {},
   "outputs": [
    {
     "data": {
      "text/plain": [
       "region_id      89305\n",
       "region_type    89305\n",
       "region         89305\n",
       "dtype: int64"
      ]
     },
     "execution_count": 72,
     "metadata": {},
     "output_type": "execute_result"
    }
   ],
   "source": [
    "regions_df.count()"
   ]
  },
  {
   "cell_type": "code",
   "execution_count": 73,
   "metadata": {},
   "outputs": [
    {
     "data": {
      "text/plain": [
       "array(['county', 'metro', 'state', 'neigh', 'city', 'zip'], dtype=object)"
      ]
     },
     "execution_count": 73,
     "metadata": {},
     "output_type": "execute_result"
    }
   ],
   "source": [
    "region_types= regions_df['region_type'].unique()\n",
    "region_types"
   ]
  },
  {
   "cell_type": "code",
   "execution_count": 74,
   "metadata": {},
   "outputs": [
    {
     "data": {
      "text/html": [
       "<div>\n",
       "<style scoped>\n",
       "    .dataframe tbody tr th:only-of-type {\n",
       "        vertical-align: middle;\n",
       "    }\n",
       "\n",
       "    .dataframe tbody tr th {\n",
       "        vertical-align: top;\n",
       "    }\n",
       "\n",
       "    .dataframe thead th {\n",
       "        text-align: right;\n",
       "    }\n",
       "</style>\n",
       "<table border=\"1\" class=\"dataframe\">\n",
       "  <thead>\n",
       "    <tr style=\"text-align: right;\">\n",
       "      <th></th>\n",
       "      <th>indicator_id</th>\n",
       "      <th>region_id</th>\n",
       "      <th>date</th>\n",
       "      <th>value</th>\n",
       "    </tr>\n",
       "  </thead>\n",
       "  <tbody>\n",
       "    <tr>\n",
       "      <th>0</th>\n",
       "      <td>Z4BR</td>\n",
       "      <td>403211</td>\n",
       "      <td>2/28/2021</td>\n",
       "      <td>477466.00000</td>\n",
       "    </tr>\n",
       "    <tr>\n",
       "      <th>1</th>\n",
       "      <td>ZALL</td>\n",
       "      <td>26591</td>\n",
       "      <td>11/30/2005</td>\n",
       "      <td>76985.30089</td>\n",
       "    </tr>\n",
       "    <tr>\n",
       "      <th>2</th>\n",
       "      <td>ZALL</td>\n",
       "      <td>3986</td>\n",
       "      <td>11/30/2005</td>\n",
       "      <td>176636.58420</td>\n",
       "    </tr>\n",
       "    <tr>\n",
       "      <th>3</th>\n",
       "      <td>ZALL</td>\n",
       "      <td>6626</td>\n",
       "      <td>11/30/2005</td>\n",
       "      <td>161867.51640</td>\n",
       "    </tr>\n",
       "    <tr>\n",
       "      <th>4</th>\n",
       "      <td>ZALL</td>\n",
       "      <td>49285</td>\n",
       "      <td>11/30/2005</td>\n",
       "      <td>191388.10450</td>\n",
       "    </tr>\n",
       "  </tbody>\n",
       "</table>\n",
       "</div>"
      ],
      "text/plain": [
       "  indicator_id  region_id        date         value\n",
       "0         Z4BR     403211   2/28/2021  477466.00000\n",
       "1         ZALL      26591  11/30/2005   76985.30089\n",
       "2         ZALL       3986  11/30/2005  176636.58420\n",
       "3         ZALL       6626  11/30/2005  161867.51640\n",
       "4         ZALL      49285  11/30/2005  191388.10450"
      ]
     },
     "execution_count": 74,
     "metadata": {},
     "output_type": "execute_result"
    }
   ],
   "source": [
    "#Data DataFrame\n",
    "data_df= pd.read_csv('Resources/Zillow_Data.csv')\n",
    "\n",
    "#Display Data\n",
    "data_df.head()"
   ]
  },
  {
   "cell_type": "code",
   "execution_count": 75,
   "metadata": {},
   "outputs": [
    {
     "data": {
      "text/plain": [
       "indicator_id    1048575\n",
       "region_id       1048575\n",
       "date            1048575\n",
       "value           1048575\n",
       "dtype: int64"
      ]
     },
     "execution_count": 75,
     "metadata": {},
     "output_type": "execute_result"
    }
   ],
   "source": [
    "data_df.count()"
   ]
  },
  {
   "cell_type": "markdown",
   "metadata": {},
   "source": [
    "## Step Two: Comparing Data\n",
    "- Cleaning the data to be utilized all together "
   ]
  },
  {
   "cell_type": "code",
   "execution_count": 76,
   "metadata": {},
   "outputs": [
    {
     "name": "stdout",
     "output_type": "stream",
     "text": [
      "28\n",
      "['Z4BR' 'ZALL' 'ZCON' 'ZSFH' 'Z3BR' 'IRAW' 'SAAW' 'MRAM' 'Z2BR' 'ZATT'\n",
      " 'SSSW' 'LSSM' 'CSAW' 'ZABT' 'SASW' 'MRAW' 'LRAM' 'ISSW' 'MSAW' 'LSAM'\n",
      " 'NRAW' 'NSAW' 'SRAM' 'SSAM' 'NSAM' 'CRAM' 'Z5BR' 'NRAM']\n"
     ]
    }
   ],
   "source": [
    "# Merge to complete a lookup of valid indicators_ID's\n",
    "valid_indicators = pd.merge(data_df[['indicator_id']],indicator_df, on='indicator_id', how='inner')\n",
    "print(valid_indicators['indicator_id'].nunique())\n",
    "print(valid_indicators['indicator_id'].unique())"
   ]
  },
  {
   "cell_type": "code",
   "execution_count": 77,
   "metadata": {},
   "outputs": [
    {
     "name": "stdout",
     "output_type": "stream",
     "text": [
      "27878\n",
      "[403211  26591   3986 ...  77520  90736  66116]\n"
     ]
    }
   ],
   "source": [
    "#Merge to complete a lookup of valid region_ID's\n",
    "valid_region= pd.merge(data_df['region_id'], regions_df, on= \"region_id\", how= 'inner')\n",
    "print(valid_region['region_id'].nunique())\n",
    "print(valid_region['region_id'].unique())"
   ]
  },
  {
   "cell_type": "code",
   "execution_count": 88,
   "metadata": {},
   "outputs": [
    {
     "name": "stdout",
     "output_type": "stream",
     "text": [
      "28\n"
     ]
    }
   ],
   "source": [
    "#Triple merge to complete a lookup of valid data\n",
    "valid_data= pd.merge(data_df, indicator_df[['indicator_id']], on='indicator_id', how='inner')\n",
    "Clean_data= pd.merge(valid_data, regions_df[['region_id']], on='region_id', how='inner')\n",
    "print(Clean_data['indicator_id'].nunique())\n"
   ]
  },
  {
   "cell_type": "code",
   "execution_count": 84,
   "metadata": {},
   "outputs": [
    {
     "data": {
      "text/html": [
       "<div>\n",
       "<style scoped>\n",
       "    .dataframe tbody tr th:only-of-type {\n",
       "        vertical-align: middle;\n",
       "    }\n",
       "\n",
       "    .dataframe tbody tr th {\n",
       "        vertical-align: top;\n",
       "    }\n",
       "\n",
       "    .dataframe thead th {\n",
       "        text-align: right;\n",
       "    }\n",
       "</style>\n",
       "<table border=\"1\" class=\"dataframe\">\n",
       "  <thead>\n",
       "    <tr style=\"text-align: right;\">\n",
       "      <th></th>\n",
       "      <th>indicator_id</th>\n",
       "      <th>indicator</th>\n",
       "      <th>category</th>\n",
       "    </tr>\n",
       "  </thead>\n",
       "  <tbody>\n",
       "    <tr>\n",
       "      <th>0</th>\n",
       "      <td>Z4BR</td>\n",
       "      <td>ZHVI 4-Bedroom Time Series ($)</td>\n",
       "      <td>Home values</td>\n",
       "    </tr>\n",
       "    <tr>\n",
       "      <th>1</th>\n",
       "      <td>Z4BR</td>\n",
       "      <td>ZHVI 4-Bedroom Time Series ($)</td>\n",
       "      <td>Home values</td>\n",
       "    </tr>\n",
       "    <tr>\n",
       "      <th>2</th>\n",
       "      <td>Z4BR</td>\n",
       "      <td>ZHVI 4-Bedroom Time Series ($)</td>\n",
       "      <td>Home values</td>\n",
       "    </tr>\n",
       "    <tr>\n",
       "      <th>3</th>\n",
       "      <td>Z4BR</td>\n",
       "      <td>ZHVI 4-Bedroom Time Series ($)</td>\n",
       "      <td>Home values</td>\n",
       "    </tr>\n",
       "    <tr>\n",
       "      <th>4</th>\n",
       "      <td>Z4BR</td>\n",
       "      <td>ZHVI 4-Bedroom Time Series ($)</td>\n",
       "      <td>Home values</td>\n",
       "    </tr>\n",
       "  </tbody>\n",
       "</table>\n",
       "</div>"
      ],
      "text/plain": [
       "  indicator_id                       indicator     category\n",
       "0         Z4BR  ZHVI 4-Bedroom Time Series ($)  Home values\n",
       "1         Z4BR  ZHVI 4-Bedroom Time Series ($)  Home values\n",
       "2         Z4BR  ZHVI 4-Bedroom Time Series ($)  Home values\n",
       "3         Z4BR  ZHVI 4-Bedroom Time Series ($)  Home values\n",
       "4         Z4BR  ZHVI 4-Bedroom Time Series ($)  Home values"
      ]
     },
     "execution_count": 84,
     "metadata": {},
     "output_type": "execute_result"
    }
   ],
   "source": [
    "#creating the clean CSV files for indicator and regions\n",
    "valid_indicators.head()"
   ]
  },
  {
   "cell_type": "code",
   "execution_count": 83,
   "metadata": {},
   "outputs": [
    {
     "data": {
      "text/html": [
       "<div>\n",
       "<style scoped>\n",
       "    .dataframe tbody tr th:only-of-type {\n",
       "        vertical-align: middle;\n",
       "    }\n",
       "\n",
       "    .dataframe tbody tr th {\n",
       "        vertical-align: top;\n",
       "    }\n",
       "\n",
       "    .dataframe thead th {\n",
       "        text-align: right;\n",
       "    }\n",
       "</style>\n",
       "<table border=\"1\" class=\"dataframe\">\n",
       "  <thead>\n",
       "    <tr style=\"text-align: right;\">\n",
       "      <th></th>\n",
       "      <th>region_id</th>\n",
       "      <th>region_type</th>\n",
       "      <th>region</th>\n",
       "    </tr>\n",
       "  </thead>\n",
       "  <tbody>\n",
       "    <tr>\n",
       "      <th>0</th>\n",
       "      <td>403211</td>\n",
       "      <td>neigh</td>\n",
       "      <td>Longwood;NY;New York-Newark-Jersey City, NY-NJ...</td>\n",
       "    </tr>\n",
       "    <tr>\n",
       "      <th>1</th>\n",
       "      <td>26591</td>\n",
       "      <td>city</td>\n",
       "      <td>Port Leyden;NY;nan;Lewis County</td>\n",
       "    </tr>\n",
       "    <tr>\n",
       "      <th>2</th>\n",
       "      <td>26591</td>\n",
       "      <td>city</td>\n",
       "      <td>Port Leyden;NY;nan;Lewis County</td>\n",
       "    </tr>\n",
       "    <tr>\n",
       "      <th>3</th>\n",
       "      <td>3986</td>\n",
       "      <td>city</td>\n",
       "      <td>Carson;VA;Richmond, VA;Dinwiddie County</td>\n",
       "    </tr>\n",
       "    <tr>\n",
       "      <th>4</th>\n",
       "      <td>3986</td>\n",
       "      <td>city</td>\n",
       "      <td>Carson;VA;Richmond, VA;Dinwiddie County</td>\n",
       "    </tr>\n",
       "  </tbody>\n",
       "</table>\n",
       "</div>"
      ],
      "text/plain": [
       "   region_id region_type                                             region\n",
       "0     403211       neigh  Longwood;NY;New York-Newark-Jersey City, NY-NJ...\n",
       "1      26591        city                    Port Leyden;NY;nan;Lewis County\n",
       "2      26591        city                    Port Leyden;NY;nan;Lewis County\n",
       "3       3986        city            Carson;VA;Richmond, VA;Dinwiddie County\n",
       "4       3986        city            Carson;VA;Richmond, VA;Dinwiddie County"
      ]
     },
     "execution_count": 83,
     "metadata": {},
     "output_type": "execute_result"
    }
   ],
   "source": [
    "valid_region.head()"
   ]
  },
  {
   "cell_type": "code",
   "execution_count": null,
   "metadata": {},
   "outputs": [],
   "source": []
  }
 ],
 "metadata": {
  "kernelspec": {
   "display_name": "dev",
   "language": "python",
   "name": "python3"
  },
  "language_info": {
   "codemirror_mode": {
    "name": "ipython",
    "version": 3
   },
   "file_extension": ".py",
   "mimetype": "text/x-python",
   "name": "python",
   "nbconvert_exporter": "python",
   "pygments_lexer": "ipython3",
   "version": "3.10.13"
  }
 },
 "nbformat": 4,
 "nbformat_minor": 2
}
