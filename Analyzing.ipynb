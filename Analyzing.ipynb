{
 "cells": [
  {
   "cell_type": "code",
   "execution_count": 28,
   "metadata": {},
   "outputs": [],
   "source": [
    "import dask.dataframe as dd"
   ]
  },
  {
   "cell_type": "code",
   "execution_count": 29,
   "metadata": {},
   "outputs": [],
   "source": [
    "Regional_data= dd.read_csv('Region_split/*.csv')"
   ]
  },
  {
   "cell_type": "code",
   "execution_count": 6,
   "metadata": {},
   "outputs": [
    {
     "data": {
      "text/html": [
       "<div>\n",
       "<style scoped>\n",
       "    .dataframe tbody tr th:only-of-type {\n",
       "        vertical-align: middle;\n",
       "    }\n",
       "\n",
       "    .dataframe tbody tr th {\n",
       "        vertical-align: top;\n",
       "    }\n",
       "\n",
       "    .dataframe thead th {\n",
       "        text-align: right;\n",
       "    }\n",
       "</style>\n",
       "<table border=\"1\" class=\"dataframe\">\n",
       "  <thead>\n",
       "    <tr style=\"text-align: right;\">\n",
       "      <th></th>\n",
       "      <th>region_id</th>\n",
       "      <th>region_type</th>\n",
       "      <th>region</th>\n",
       "      <th>Zipcode</th>\n",
       "      <th>State</th>\n",
       "      <th>Metro Area</th>\n",
       "      <th>City</th>\n",
       "      <th>County</th>\n",
       "    </tr>\n",
       "  </thead>\n",
       "  <tbody>\n",
       "    <tr>\n",
       "      <th>3696</th>\n",
       "      <td>69435</td>\n",
       "      <td>zip</td>\n",
       "      <td>27592;NC;Raleigh-Cary, NC;Willow Spring;Johnst...</td>\n",
       "      <td>27592</td>\n",
       "      <td>NC</td>\n",
       "      <td>Raleigh-Cary, NC</td>\n",
       "      <td>Willow Spring</td>\n",
       "      <td>Johnston County</td>\n",
       "    </tr>\n",
       "    <tr>\n",
       "      <th>3697</th>\n",
       "      <td>91515</td>\n",
       "      <td>zip</td>\n",
       "      <td>76643;TX;Waco, TX;Hewitt;McLennan County</td>\n",
       "      <td>76643</td>\n",
       "      <td>TX</td>\n",
       "      <td>Waco, TX</td>\n",
       "      <td>Hewitt</td>\n",
       "      <td>McLennan County</td>\n",
       "    </tr>\n",
       "    <tr>\n",
       "      <th>3698</th>\n",
       "      <td>77520</td>\n",
       "      <td>zip</td>\n",
       "      <td>45229;OH;Cincinnati, OH-KY-IN;Cincinnati;Hamil...</td>\n",
       "      <td>45229</td>\n",
       "      <td>OH</td>\n",
       "      <td>Cincinnati, OH-KY-IN</td>\n",
       "      <td>Cincinnati</td>\n",
       "      <td>Hamilton County</td>\n",
       "    </tr>\n",
       "    <tr>\n",
       "      <th>3699</th>\n",
       "      <td>90736</td>\n",
       "      <td>zip</td>\n",
       "      <td>75159;TX;Dallas-Fort Worth-Arlington, TX;Seago...</td>\n",
       "      <td>75159</td>\n",
       "      <td>TX</td>\n",
       "      <td>Dallas-Fort Worth-Arlington, TX</td>\n",
       "      <td>Seagoville</td>\n",
       "      <td>Dallas County</td>\n",
       "    </tr>\n",
       "    <tr>\n",
       "      <th>3700</th>\n",
       "      <td>66116</td>\n",
       "      <td>zip</td>\n",
       "      <td>19968;DE;Salisbury, MD-DE;Milton;Sussex County</td>\n",
       "      <td>19968</td>\n",
       "      <td>DE</td>\n",
       "      <td>Salisbury, MD-DE</td>\n",
       "      <td>Milton</td>\n",
       "      <td>Sussex County</td>\n",
       "    </tr>\n",
       "  </tbody>\n",
       "</table>\n",
       "</div>"
      ],
      "text/plain": [
       "      region_id region_type  \\\n",
       "3696      69435         zip   \n",
       "3697      91515         zip   \n",
       "3698      77520         zip   \n",
       "3699      90736         zip   \n",
       "3700      66116         zip   \n",
       "\n",
       "                                                 region  Zipcode State  \\\n",
       "3696  27592;NC;Raleigh-Cary, NC;Willow Spring;Johnst...    27592    NC   \n",
       "3697           76643;TX;Waco, TX;Hewitt;McLennan County    76643    TX   \n",
       "3698  45229;OH;Cincinnati, OH-KY-IN;Cincinnati;Hamil...    45229    OH   \n",
       "3699  75159;TX;Dallas-Fort Worth-Arlington, TX;Seago...    75159    TX   \n",
       "3700     19968;DE;Salisbury, MD-DE;Milton;Sussex County    19968    DE   \n",
       "\n",
       "                           Metro Area           City           County  \n",
       "3696                 Raleigh-Cary, NC  Willow Spring  Johnston County  \n",
       "3697                         Waco, TX         Hewitt  McLennan County  \n",
       "3698             Cincinnati, OH-KY-IN     Cincinnati  Hamilton County  \n",
       "3699  Dallas-Fort Worth-Arlington, TX     Seagoville    Dallas County  \n",
       "3700                 Salisbury, MD-DE         Milton    Sussex County  "
      ]
     },
     "execution_count": 6,
     "metadata": {},
     "output_type": "execute_result"
    }
   ],
   "source": [
    "Regional_data"
   ]
  },
  {
   "cell_type": "code",
   "execution_count": 33,
   "metadata": {},
   "outputs": [
    {
     "name": "stdout",
     "output_type": "stream",
     "text": [
      "      region_id region_type  \\\n",
      "3544      84487         zip   \n",
      "3560      85573         zip   \n",
      "3572      84831         zip   \n",
      "3653      84382         zip   \n",
      "3684      84419         zip   \n",
      "\n",
      "                                                 region  Zipcode State  \\\n",
      "3544  60436;IL;Chicago-Naperville-Elgin, IL-IN-WI;Ro...    60436    IL   \n",
      "3560  62568;IL;Taylorville, IL;Taylorville;Christian...    62568    IL   \n",
      "3572    61114;IL;Rockford, IL;Rockford;Winnebago County    61114    IL   \n",
      "3653  60131;IL;Chicago-Naperville-Elgin, IL-IN-WI;Fr...    60131    IL   \n",
      "3684  60173;IL;Chicago-Naperville-Elgin, IL-IN-WI;Sc...    60173    IL   \n",
      "\n",
      "                              Metro Area           City            County  \n",
      "3544  Chicago-Naperville-Elgin, IL-IN-WI       Rockdale       Will County  \n",
      "3560                     Taylorville, IL    Taylorville  Christian County  \n",
      "3572                        Rockford, IL       Rockford  Winnebago County  \n",
      "3653  Chicago-Naperville-Elgin, IL-IN-WI  Franklin Park       Cook County  \n",
      "3684  Chicago-Naperville-Elgin, IL-IN-WI     Schaumburg       Cook County  \n"
     ]
    }
   ],
   "source": [
    "#chicago data\n",
    "chicago_data = Regional_data[Regional_data['State'] == 'IL']\n",
    "#print(chicago_data.tail())\n",
    "print(chicago_data.tail())"
   ]
  },
  {
   "cell_type": "code",
   "execution_count": 36,
   "metadata": {},
   "outputs": [
    {
     "data": {
      "text/plain": [
       "region_id       int64\n",
       "region_type    object\n",
       "region         object\n",
       "City           object\n",
       "State          object\n",
       "Metro Area     object\n",
       "County         object\n",
       "dtype: object"
      ]
     },
     "execution_count": 36,
     "metadata": {},
     "output_type": "execute_result"
    }
   ],
   "source": [
    "chicago_data.dtypes"
   ]
  },
  {
   "cell_type": "code",
   "execution_count": 25,
   "metadata": {},
   "outputs": [],
   "source": [
    "calculated_data= dd.read_csv('Clean_data/Data.csv')"
   ]
  },
  {
   "cell_type": "code",
   "execution_count": 26,
   "metadata": {},
   "outputs": [],
   "source": [
    "inidcators_data= dd. read_csv('Clean_data/indicators.csv')"
   ]
  },
  {
   "cell_type": "code",
   "execution_count": null,
   "metadata": {},
   "outputs": [],
   "source": []
  }
 ],
 "metadata": {
  "kernelspec": {
   "display_name": "dev",
   "language": "python",
   "name": "python3"
  },
  "language_info": {
   "codemirror_mode": {
    "name": "ipython",
    "version": 3
   },
   "file_extension": ".py",
   "mimetype": "text/x-python",
   "name": "python",
   "nbconvert_exporter": "python",
   "pygments_lexer": "ipython3",
   "version": "3.10.13"
  }
 },
 "nbformat": 4,
 "nbformat_minor": 2
}
