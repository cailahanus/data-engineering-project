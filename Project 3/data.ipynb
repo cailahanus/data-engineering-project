{
 "cells": [
  {
   "cell_type": "code",
   "execution_count": 230,
   "metadata": {},
   "outputs": [],
   "source": [
    "# Dependencies\n",
    "import pandas as pd\n",
    "import numpy as np\n",
    "import requests\n",
    "import json\n",
    "\n",
    "# Import the API key\n",
    "from config1 import api_key"
   ]
  },
  {
   "cell_type": "code",
   "execution_count": 231,
   "metadata": {},
   "outputs": [
    {
     "data": {
      "text/html": [
       "<div>\n",
       "<style scoped>\n",
       "    .dataframe tbody tr th:only-of-type {\n",
       "        vertical-align: middle;\n",
       "    }\n",
       "\n",
       "    .dataframe tbody tr th {\n",
       "        vertical-align: top;\n",
       "    }\n",
       "\n",
       "    .dataframe thead th {\n",
       "        text-align: right;\n",
       "    }\n",
       "</style>\n",
       "<table border=\"1\" class=\"dataframe\">\n",
       "  <thead>\n",
       "    <tr style=\"text-align: right;\">\n",
       "      <th></th>\n",
       "      <th>indicator_id</th>\n",
       "      <th>indicator</th>\n",
       "      <th>category</th>\n",
       "    </tr>\n",
       "  </thead>\n",
       "  <tbody>\n",
       "    <tr>\n",
       "      <th>0</th>\n",
       "      <td>MRAM</td>\n",
       "      <td>Mean Days to Pending (Raw, All Homes, Monthly)</td>\n",
       "      <td>Inventory and sales</td>\n",
       "    </tr>\n",
       "    <tr>\n",
       "      <th>1</th>\n",
       "      <td>SSSW</td>\n",
       "      <td>Median Sale Price (Smooth, SFR only, Weekly View)</td>\n",
       "      <td>Inventory and sales</td>\n",
       "    </tr>\n",
       "    <tr>\n",
       "      <th>2</th>\n",
       "      <td>LSSM</td>\n",
       "      <td>Median List Price (Smooth, SFR Only, Monthly)</td>\n",
       "      <td>Inventory and sales</td>\n",
       "    </tr>\n",
       "    <tr>\n",
       "      <th>3</th>\n",
       "      <td>CSAW</td>\n",
       "      <td>Share of Listings With a Price Cut (Smooth, Al...</td>\n",
       "      <td>Inventory and sales</td>\n",
       "    </tr>\n",
       "    <tr>\n",
       "      <th>4</th>\n",
       "      <td>ISSM</td>\n",
       "      <td>For-Sale Inventory (Smooth, SFR only, Monthly)</td>\n",
       "      <td>Inventory and sales</td>\n",
       "    </tr>\n",
       "  </tbody>\n",
       "</table>\n",
       "</div>"
      ],
      "text/plain": [
       "  indicator_id                                          indicator  \\\n",
       "0         MRAM     Mean Days to Pending (Raw, All Homes, Monthly)   \n",
       "1         SSSW  Median Sale Price (Smooth, SFR only, Weekly View)   \n",
       "2         LSSM      Median List Price (Smooth, SFR Only, Monthly)   \n",
       "3         CSAW  Share of Listings With a Price Cut (Smooth, Al...   \n",
       "4         ISSM     For-Sale Inventory (Smooth, SFR only, Monthly)   \n",
       "\n",
       "              category  \n",
       "0  Inventory and sales  \n",
       "1  Inventory and sales  \n",
       "2  Inventory and sales  \n",
       "3  Inventory and sales  \n",
       "4  Inventory and sales  "
      ]
     },
     "execution_count": 231,
     "metadata": {},
     "output_type": "execute_result"
    }
   ],
   "source": [
    "#Create Dataframe with Zillow Indicator Data\n",
    "zillow_indicators = pd.read_csv(\"Zillow Indicators.csv\")\n",
    "zillow_indicators.head()"
   ]
  },
  {
   "cell_type": "code",
   "execution_count": 232,
   "metadata": {},
   "outputs": [
    {
     "data": {
      "text/html": [
       "<div>\n",
       "<style scoped>\n",
       "    .dataframe tbody tr th:only-of-type {\n",
       "        vertical-align: middle;\n",
       "    }\n",
       "\n",
       "    .dataframe tbody tr th {\n",
       "        vertical-align: top;\n",
       "    }\n",
       "\n",
       "    .dataframe thead th {\n",
       "        text-align: right;\n",
       "    }\n",
       "</style>\n",
       "<table border=\"1\" class=\"dataframe\">\n",
       "  <thead>\n",
       "    <tr style=\"text-align: right;\">\n",
       "      <th></th>\n",
       "      <th>region_id</th>\n",
       "      <th>region_type</th>\n",
       "      <th>region</th>\n",
       "    </tr>\n",
       "  </thead>\n",
       "  <tbody>\n",
       "    <tr>\n",
       "      <th>0</th>\n",
       "      <td>1286</td>\n",
       "      <td>county</td>\n",
       "      <td>Orange County;CA;Los Angeles-Long Beach-Anahei...</td>\n",
       "    </tr>\n",
       "    <tr>\n",
       "      <th>1</th>\n",
       "      <td>3175</td>\n",
       "      <td>county</td>\n",
       "      <td>Philadelphia County;PA;Philadelphia-Camden-Wil...</td>\n",
       "    </tr>\n",
       "    <tr>\n",
       "      <th>2</th>\n",
       "      <td>3017</td>\n",
       "      <td>county</td>\n",
       "      <td>Sacramento County;CA;Sacramento-Roseville-Fols...</td>\n",
       "    </tr>\n",
       "    <tr>\n",
       "      <th>3</th>\n",
       "      <td>401</td>\n",
       "      <td>county</td>\n",
       "      <td>Bronx County;NY;New York-Newark-Jersey City, N...</td>\n",
       "    </tr>\n",
       "    <tr>\n",
       "      <th>4</th>\n",
       "      <td>3165</td>\n",
       "      <td>county</td>\n",
       "      <td>Hillsborough County;FL;Tampa-St. Petersburg-Cl...</td>\n",
       "    </tr>\n",
       "  </tbody>\n",
       "</table>\n",
       "</div>"
      ],
      "text/plain": [
       "   region_id region_type                                             region\n",
       "0       1286      county  Orange County;CA;Los Angeles-Long Beach-Anahei...\n",
       "1       3175      county  Philadelphia County;PA;Philadelphia-Camden-Wil...\n",
       "2       3017      county  Sacramento County;CA;Sacramento-Roseville-Fols...\n",
       "3        401      county  Bronx County;NY;New York-Newark-Jersey City, N...\n",
       "4       3165      county  Hillsborough County;FL;Tampa-St. Petersburg-Cl..."
      ]
     },
     "execution_count": 232,
     "metadata": {},
     "output_type": "execute_result"
    }
   ],
   "source": [
    "#Create Dataframe with Zillow Region Data\n",
    "zillow_regions = pd.read_csv(\"Zillow Regions.csv\")\n",
    "zillow_regions.head()"
   ]
  },
  {
   "cell_type": "code",
   "execution_count": 233,
   "metadata": {},
   "outputs": [
    {
     "data": {
      "text/html": [
       "<div>\n",
       "<style scoped>\n",
       "    .dataframe tbody tr th:only-of-type {\n",
       "        vertical-align: middle;\n",
       "    }\n",
       "\n",
       "    .dataframe tbody tr th {\n",
       "        vertical-align: top;\n",
       "    }\n",
       "\n",
       "    .dataframe thead th {\n",
       "        text-align: right;\n",
       "    }\n",
       "</style>\n",
       "<table border=\"1\" class=\"dataframe\">\n",
       "  <thead>\n",
       "    <tr style=\"text-align: right;\">\n",
       "      <th></th>\n",
       "      <th>region_id</th>\n",
       "      <th>region_type</th>\n",
       "      <th>region</th>\n",
       "    </tr>\n",
       "  </thead>\n",
       "  <tbody>\n",
       "    <tr>\n",
       "      <th>425</th>\n",
       "      <td>10215</td>\n",
       "      <td>city</td>\n",
       "      <td>Aurora;IL;Chicago-Naperville-Elgin, IL-IN-WI;K...</td>\n",
       "    </tr>\n",
       "    <tr>\n",
       "      <th>607</th>\n",
       "      <td>41587</td>\n",
       "      <td>city</td>\n",
       "      <td>Waukegan;IL;Chicago-Naperville-Elgin, IL-IN-WI...</td>\n",
       "    </tr>\n",
       "    <tr>\n",
       "      <th>646</th>\n",
       "      <td>44597</td>\n",
       "      <td>city</td>\n",
       "      <td>Cicero;IL;Chicago-Naperville-Elgin, IL-IN-WI;C...</td>\n",
       "    </tr>\n",
       "    <tr>\n",
       "      <th>654</th>\n",
       "      <td>41460</td>\n",
       "      <td>city</td>\n",
       "      <td>Valparaiso;IN;Chicago-Naperville-Elgin, IL-IN-...</td>\n",
       "    </tr>\n",
       "    <tr>\n",
       "      <th>666</th>\n",
       "      <td>50764</td>\n",
       "      <td>city</td>\n",
       "      <td>Arlington Heights;IL;Chicago-Naperville-Elgin,...</td>\n",
       "    </tr>\n",
       "  </tbody>\n",
       "</table>\n",
       "</div>"
      ],
      "text/plain": [
       "     region_id region_type                                             region\n",
       "425      10215        city  Aurora;IL;Chicago-Naperville-Elgin, IL-IN-WI;K...\n",
       "607      41587        city  Waukegan;IL;Chicago-Naperville-Elgin, IL-IN-WI...\n",
       "646      44597        city  Cicero;IL;Chicago-Naperville-Elgin, IL-IN-WI;C...\n",
       "654      41460        city  Valparaiso;IN;Chicago-Naperville-Elgin, IL-IN-...\n",
       "666      50764        city  Arlington Heights;IL;Chicago-Naperville-Elgin,..."
      ]
     },
     "execution_count": 233,
     "metadata": {},
     "output_type": "execute_result"
    }
   ],
   "source": [
    "#Search regions Dataframe for Chicago\n",
    "p = \"Chicago\"\n",
    "chicago_regions = zillow_regions[zillow_regions['region'].str.contains(p)]\n",
    "chicago_regions.head()"
   ]
  },
  {
   "cell_type": "code",
   "execution_count": 234,
   "metadata": {},
   "outputs": [
    {
     "data": {
      "text/plain": [
       "array(['city', 'county', 'neigh', 'zip', 'metro'], dtype=object)"
      ]
     },
     "execution_count": 234,
     "metadata": {},
     "output_type": "execute_result"
    }
   ],
   "source": [
    "#find all the region types\n",
    "chicago_regions[\"region_type\"].unique()"
   ]
  },
  {
   "cell_type": "code",
   "execution_count": 235,
   "metadata": {},
   "outputs": [],
   "source": [
    "#create the new dataframes\n",
    "city_regions = chicago_regions.loc[chicago_regions[\"region_type\"] == \"city\"]\n",
    "county_regions = chicago_regions.loc[chicago_regions[\"region_type\"] == \"county\"]\n",
    "neigh_regions = chicago_regions.loc[chicago_regions[\"region_type\"] == \"neigh\"]\n",
    "zip_regions = chicago_regions.loc[chicago_regions[\"region_type\"] == \"zip\"]\n",
    "metro_regions = chicago_regions.loc[chicago_regions[\"region_type\"] == \"metro\"]"
   ]
  },
  {
   "cell_type": "markdown",
   "metadata": {},
   "source": [
    "City Dataframe Cleaning"
   ]
  },
  {
   "cell_type": "code",
   "execution_count": 236,
   "metadata": {},
   "outputs": [
    {
     "data": {
      "text/html": [
       "<div>\n",
       "<style scoped>\n",
       "    .dataframe tbody tr th:only-of-type {\n",
       "        vertical-align: middle;\n",
       "    }\n",
       "\n",
       "    .dataframe tbody tr th {\n",
       "        vertical-align: top;\n",
       "    }\n",
       "\n",
       "    .dataframe thead th {\n",
       "        text-align: right;\n",
       "    }\n",
       "</style>\n",
       "<table border=\"1\" class=\"dataframe\">\n",
       "  <thead>\n",
       "    <tr style=\"text-align: right;\">\n",
       "      <th></th>\n",
       "      <th>region_id</th>\n",
       "      <th>region_type</th>\n",
       "      <th>region</th>\n",
       "    </tr>\n",
       "  </thead>\n",
       "  <tbody>\n",
       "    <tr>\n",
       "      <th>425</th>\n",
       "      <td>10215</td>\n",
       "      <td>city</td>\n",
       "      <td>Aurora;IL;Chicago-Naperville-Elgin, IL-IN-WI;K...</td>\n",
       "    </tr>\n",
       "    <tr>\n",
       "      <th>607</th>\n",
       "      <td>41587</td>\n",
       "      <td>city</td>\n",
       "      <td>Waukegan;IL;Chicago-Naperville-Elgin, IL-IN-WI...</td>\n",
       "    </tr>\n",
       "    <tr>\n",
       "      <th>646</th>\n",
       "      <td>44597</td>\n",
       "      <td>city</td>\n",
       "      <td>Cicero;IL;Chicago-Naperville-Elgin, IL-IN-WI;C...</td>\n",
       "    </tr>\n",
       "    <tr>\n",
       "      <th>654</th>\n",
       "      <td>41460</td>\n",
       "      <td>city</td>\n",
       "      <td>Valparaiso;IN;Chicago-Naperville-Elgin, IL-IN-...</td>\n",
       "    </tr>\n",
       "    <tr>\n",
       "      <th>666</th>\n",
       "      <td>50764</td>\n",
       "      <td>city</td>\n",
       "      <td>Arlington Heights;IL;Chicago-Naperville-Elgin,...</td>\n",
       "    </tr>\n",
       "  </tbody>\n",
       "</table>\n",
       "</div>"
      ],
      "text/plain": [
       "     region_id region_type                                             region\n",
       "425      10215        city  Aurora;IL;Chicago-Naperville-Elgin, IL-IN-WI;K...\n",
       "607      41587        city  Waukegan;IL;Chicago-Naperville-Elgin, IL-IN-WI...\n",
       "646      44597        city  Cicero;IL;Chicago-Naperville-Elgin, IL-IN-WI;C...\n",
       "654      41460        city  Valparaiso;IN;Chicago-Naperville-Elgin, IL-IN-...\n",
       "666      50764        city  Arlington Heights;IL;Chicago-Naperville-Elgin,..."
      ]
     },
     "execution_count": 236,
     "metadata": {},
     "output_type": "execute_result"
    }
   ],
   "source": [
    "city_regions.head()"
   ]
  },
  {
   "cell_type": "code",
   "execution_count": 237,
   "metadata": {},
   "outputs": [],
   "source": [
    "#clean the data by splitting region\n",
    "split_region = city_regions['region'].str.split(';', n=4, expand=True)\n",
    "split_region.columns = ['city', 'state', 'state_region', 'county']\n"
   ]
  },
  {
   "cell_type": "code",
   "execution_count": 238,
   "metadata": {},
   "outputs": [],
   "source": [
    "# Concatenating the split columns with the original DataFrame\n",
    "city_regions = pd.concat([city_regions, split_region], axis=1)\n",
    "\n",
    "# Dropping the original 'region' column\n",
    "city_regions.drop(columns=['region'], inplace=True)\n"
   ]
  },
  {
   "cell_type": "code",
   "execution_count": 239,
   "metadata": {},
   "outputs": [
    {
     "name": "stdout",
     "output_type": "stream",
     "text": [
      "<class 'pandas.core.frame.DataFrame'>\n",
      "Index: 370 entries, 425 to 89052\n",
      "Data columns (total 6 columns):\n",
      " #   Column        Non-Null Count  Dtype \n",
      "---  ------        --------------  ----- \n",
      " 0   region_id     370 non-null    int64 \n",
      " 1   region_type   370 non-null    object\n",
      " 2   city          370 non-null    object\n",
      " 3   state         370 non-null    object\n",
      " 4   state_region  370 non-null    object\n",
      " 5   county        370 non-null    object\n",
      "dtypes: int64(1), object(5)\n",
      "memory usage: 20.2+ KB\n"
     ]
    }
   ],
   "source": [
    "city_regions.info()"
   ]
  },
  {
   "cell_type": "code",
   "execution_count": 240,
   "metadata": {},
   "outputs": [
    {
     "data": {
      "text/html": [
       "<div>\n",
       "<style scoped>\n",
       "    .dataframe tbody tr th:only-of-type {\n",
       "        vertical-align: middle;\n",
       "    }\n",
       "\n",
       "    .dataframe tbody tr th {\n",
       "        vertical-align: top;\n",
       "    }\n",
       "\n",
       "    .dataframe thead th {\n",
       "        text-align: right;\n",
       "    }\n",
       "</style>\n",
       "<table border=\"1\" class=\"dataframe\">\n",
       "  <thead>\n",
       "    <tr style=\"text-align: right;\">\n",
       "      <th></th>\n",
       "      <th>region_id</th>\n",
       "      <th>region_type</th>\n",
       "      <th>city</th>\n",
       "      <th>state</th>\n",
       "      <th>state_region</th>\n",
       "      <th>county</th>\n",
       "    </tr>\n",
       "  </thead>\n",
       "  <tbody>\n",
       "    <tr>\n",
       "      <th>425</th>\n",
       "      <td>10215</td>\n",
       "      <td>city</td>\n",
       "      <td>Aurora</td>\n",
       "      <td>IL</td>\n",
       "      <td>Chicago-Naperville-Elgin, IL-IN-WI</td>\n",
       "      <td>Kane County</td>\n",
       "    </tr>\n",
       "    <tr>\n",
       "      <th>607</th>\n",
       "      <td>41587</td>\n",
       "      <td>city</td>\n",
       "      <td>Waukegan</td>\n",
       "      <td>IL</td>\n",
       "      <td>Chicago-Naperville-Elgin, IL-IN-WI</td>\n",
       "      <td>Lake County</td>\n",
       "    </tr>\n",
       "    <tr>\n",
       "      <th>646</th>\n",
       "      <td>44597</td>\n",
       "      <td>city</td>\n",
       "      <td>Cicero</td>\n",
       "      <td>IL</td>\n",
       "      <td>Chicago-Naperville-Elgin, IL-IN-WI</td>\n",
       "      <td>Cook County</td>\n",
       "    </tr>\n",
       "    <tr>\n",
       "      <th>654</th>\n",
       "      <td>41460</td>\n",
       "      <td>city</td>\n",
       "      <td>Valparaiso</td>\n",
       "      <td>IN</td>\n",
       "      <td>Chicago-Naperville-Elgin, IL-IN-WI</td>\n",
       "      <td>Porter County</td>\n",
       "    </tr>\n",
       "    <tr>\n",
       "      <th>666</th>\n",
       "      <td>50764</td>\n",
       "      <td>city</td>\n",
       "      <td>Arlington Heights</td>\n",
       "      <td>IL</td>\n",
       "      <td>Chicago-Naperville-Elgin, IL-IN-WI</td>\n",
       "      <td>Cook County</td>\n",
       "    </tr>\n",
       "  </tbody>\n",
       "</table>\n",
       "</div>"
      ],
      "text/plain": [
       "     region_id region_type               city state  \\\n",
       "425      10215        city             Aurora    IL   \n",
       "607      41587        city           Waukegan    IL   \n",
       "646      44597        city             Cicero    IL   \n",
       "654      41460        city         Valparaiso    IN   \n",
       "666      50764        city  Arlington Heights    IL   \n",
       "\n",
       "                           state_region         county  \n",
       "425  Chicago-Naperville-Elgin, IL-IN-WI    Kane County  \n",
       "607  Chicago-Naperville-Elgin, IL-IN-WI    Lake County  \n",
       "646  Chicago-Naperville-Elgin, IL-IN-WI    Cook County  \n",
       "654  Chicago-Naperville-Elgin, IL-IN-WI  Porter County  \n",
       "666  Chicago-Naperville-Elgin, IL-IN-WI    Cook County  "
      ]
     },
     "execution_count": 240,
     "metadata": {},
     "output_type": "execute_result"
    }
   ],
   "source": [
    "city_regions.head()"
   ]
  },
  {
   "cell_type": "markdown",
   "metadata": {},
   "source": [
    "County Dataframe Cleaning"
   ]
  },
  {
   "cell_type": "code",
   "execution_count": 241,
   "metadata": {},
   "outputs": [
    {
     "data": {
      "text/html": [
       "<div>\n",
       "<style scoped>\n",
       "    .dataframe tbody tr th:only-of-type {\n",
       "        vertical-align: middle;\n",
       "    }\n",
       "\n",
       "    .dataframe tbody tr th {\n",
       "        vertical-align: top;\n",
       "    }\n",
       "\n",
       "    .dataframe thead th {\n",
       "        text-align: right;\n",
       "    }\n",
       "</style>\n",
       "<table border=\"1\" class=\"dataframe\">\n",
       "  <thead>\n",
       "    <tr style=\"text-align: right;\">\n",
       "      <th></th>\n",
       "      <th>region_id</th>\n",
       "      <th>region_type</th>\n",
       "      <th>region</th>\n",
       "    </tr>\n",
       "  </thead>\n",
       "  <tbody>\n",
       "    <tr>\n",
       "      <th>1453</th>\n",
       "      <td>139</td>\n",
       "      <td>county</td>\n",
       "      <td>Cook County;IL;Chicago-Naperville-Elgin, IL-IN-WI</td>\n",
       "    </tr>\n",
       "    <tr>\n",
       "      <th>6716</th>\n",
       "      <td>1682</td>\n",
       "      <td>county</td>\n",
       "      <td>DuPage County;IL;Chicago-Naperville-Elgin, IL-...</td>\n",
       "    </tr>\n",
       "    <tr>\n",
       "      <th>13058</th>\n",
       "      <td>220</td>\n",
       "      <td>county</td>\n",
       "      <td>Lake County;IL;Chicago-Naperville-Elgin, IL-IN-WI</td>\n",
       "    </tr>\n",
       "    <tr>\n",
       "      <th>14819</th>\n",
       "      <td>330</td>\n",
       "      <td>county</td>\n",
       "      <td>Will County;IL;Chicago-Naperville-Elgin, IL-IN-WI</td>\n",
       "    </tr>\n",
       "    <tr>\n",
       "      <th>18197</th>\n",
       "      <td>197</td>\n",
       "      <td>county</td>\n",
       "      <td>Kane County;IL;Chicago-Naperville-Elgin, IL-IN-WI</td>\n",
       "    </tr>\n",
       "  </tbody>\n",
       "</table>\n",
       "</div>"
      ],
      "text/plain": [
       "       region_id region_type  \\\n",
       "1453         139      county   \n",
       "6716        1682      county   \n",
       "13058        220      county   \n",
       "14819        330      county   \n",
       "18197        197      county   \n",
       "\n",
       "                                                  region  \n",
       "1453   Cook County;IL;Chicago-Naperville-Elgin, IL-IN-WI  \n",
       "6716   DuPage County;IL;Chicago-Naperville-Elgin, IL-...  \n",
       "13058  Lake County;IL;Chicago-Naperville-Elgin, IL-IN-WI  \n",
       "14819  Will County;IL;Chicago-Naperville-Elgin, IL-IN-WI  \n",
       "18197  Kane County;IL;Chicago-Naperville-Elgin, IL-IN-WI  "
      ]
     },
     "execution_count": 241,
     "metadata": {},
     "output_type": "execute_result"
    }
   ],
   "source": [
    "county_regions.head()"
   ]
  },
  {
   "cell_type": "code",
   "execution_count": 242,
   "metadata": {},
   "outputs": [],
   "source": [
    "#clean the data by splitting region\n",
    "split_region = county_regions['region'].str.split(';', n=3, expand=True)\n",
    "split_region.columns = ['county', 'state', 'state_region']"
   ]
  },
  {
   "cell_type": "code",
   "execution_count": 243,
   "metadata": {},
   "outputs": [],
   "source": [
    "# Concatenating the split columns with the original DataFrame\n",
    "county_regions = pd.concat([county_regions, split_region], axis=1)\n",
    "\n",
    "# Dropping the original 'region' column\n",
    "county_regions.drop(columns=['region'], inplace=True)"
   ]
  },
  {
   "cell_type": "code",
   "execution_count": 244,
   "metadata": {},
   "outputs": [
    {
     "name": "stdout",
     "output_type": "stream",
     "text": [
      "<class 'pandas.core.frame.DataFrame'>\n",
      "Index: 14 entries, 1453 to 36340\n",
      "Data columns (total 5 columns):\n",
      " #   Column        Non-Null Count  Dtype \n",
      "---  ------        --------------  ----- \n",
      " 0   region_id     14 non-null     int64 \n",
      " 1   region_type   14 non-null     object\n",
      " 2   county        14 non-null     object\n",
      " 3   state         14 non-null     object\n",
      " 4   state_region  14 non-null     object\n",
      "dtypes: int64(1), object(4)\n",
      "memory usage: 672.0+ bytes\n"
     ]
    }
   ],
   "source": [
    "#check that all columns are full\n",
    "county_regions.info()"
   ]
  },
  {
   "cell_type": "code",
   "execution_count": 245,
   "metadata": {},
   "outputs": [
    {
     "data": {
      "text/html": [
       "<div>\n",
       "<style scoped>\n",
       "    .dataframe tbody tr th:only-of-type {\n",
       "        vertical-align: middle;\n",
       "    }\n",
       "\n",
       "    .dataframe tbody tr th {\n",
       "        vertical-align: top;\n",
       "    }\n",
       "\n",
       "    .dataframe thead th {\n",
       "        text-align: right;\n",
       "    }\n",
       "</style>\n",
       "<table border=\"1\" class=\"dataframe\">\n",
       "  <thead>\n",
       "    <tr style=\"text-align: right;\">\n",
       "      <th></th>\n",
       "      <th>region_id</th>\n",
       "      <th>region_type</th>\n",
       "      <th>county</th>\n",
       "      <th>state</th>\n",
       "      <th>state_region</th>\n",
       "    </tr>\n",
       "  </thead>\n",
       "  <tbody>\n",
       "    <tr>\n",
       "      <th>1453</th>\n",
       "      <td>139</td>\n",
       "      <td>county</td>\n",
       "      <td>Cook County</td>\n",
       "      <td>IL</td>\n",
       "      <td>Chicago-Naperville-Elgin, IL-IN-WI</td>\n",
       "    </tr>\n",
       "    <tr>\n",
       "      <th>6716</th>\n",
       "      <td>1682</td>\n",
       "      <td>county</td>\n",
       "      <td>DuPage County</td>\n",
       "      <td>IL</td>\n",
       "      <td>Chicago-Naperville-Elgin, IL-IN-WI</td>\n",
       "    </tr>\n",
       "    <tr>\n",
       "      <th>13058</th>\n",
       "      <td>220</td>\n",
       "      <td>county</td>\n",
       "      <td>Lake County</td>\n",
       "      <td>IL</td>\n",
       "      <td>Chicago-Naperville-Elgin, IL-IN-WI</td>\n",
       "    </tr>\n",
       "    <tr>\n",
       "      <th>14819</th>\n",
       "      <td>330</td>\n",
       "      <td>county</td>\n",
       "      <td>Will County</td>\n",
       "      <td>IL</td>\n",
       "      <td>Chicago-Naperville-Elgin, IL-IN-WI</td>\n",
       "    </tr>\n",
       "    <tr>\n",
       "      <th>18197</th>\n",
       "      <td>197</td>\n",
       "      <td>county</td>\n",
       "      <td>Kane County</td>\n",
       "      <td>IL</td>\n",
       "      <td>Chicago-Naperville-Elgin, IL-IN-WI</td>\n",
       "    </tr>\n",
       "  </tbody>\n",
       "</table>\n",
       "</div>"
      ],
      "text/plain": [
       "       region_id region_type         county state  \\\n",
       "1453         139      county    Cook County    IL   \n",
       "6716        1682      county  DuPage County    IL   \n",
       "13058        220      county    Lake County    IL   \n",
       "14819        330      county    Will County    IL   \n",
       "18197        197      county    Kane County    IL   \n",
       "\n",
       "                             state_region  \n",
       "1453   Chicago-Naperville-Elgin, IL-IN-WI  \n",
       "6716   Chicago-Naperville-Elgin, IL-IN-WI  \n",
       "13058  Chicago-Naperville-Elgin, IL-IN-WI  \n",
       "14819  Chicago-Naperville-Elgin, IL-IN-WI  \n",
       "18197  Chicago-Naperville-Elgin, IL-IN-WI  "
      ]
     },
     "execution_count": 245,
     "metadata": {},
     "output_type": "execute_result"
    }
   ],
   "source": [
    "#check the dataframe\n",
    "county_regions.head()"
   ]
  },
  {
   "cell_type": "markdown",
   "metadata": {},
   "source": [
    "Neighborhood Dataframe Cleaning"
   ]
  },
  {
   "cell_type": "code",
   "execution_count": 246,
   "metadata": {},
   "outputs": [
    {
     "data": {
      "text/html": [
       "<div>\n",
       "<style scoped>\n",
       "    .dataframe tbody tr th:only-of-type {\n",
       "        vertical-align: middle;\n",
       "    }\n",
       "\n",
       "    .dataframe tbody tr th {\n",
       "        vertical-align: top;\n",
       "    }\n",
       "\n",
       "    .dataframe thead th {\n",
       "        text-align: right;\n",
       "    }\n",
       "</style>\n",
       "<table border=\"1\" class=\"dataframe\">\n",
       "  <thead>\n",
       "    <tr style=\"text-align: right;\">\n",
       "      <th></th>\n",
       "      <th>region_id</th>\n",
       "      <th>region_type</th>\n",
       "      <th>region</th>\n",
       "    </tr>\n",
       "  </thead>\n",
       "  <tbody>\n",
       "    <tr>\n",
       "      <th>3705</th>\n",
       "      <td>403295</td>\n",
       "      <td>neigh</td>\n",
       "      <td>Lake View East; IL; Chicago-Naperville-Elgin; ...</td>\n",
       "    </tr>\n",
       "    <tr>\n",
       "      <th>5918</th>\n",
       "      <td>403288</td>\n",
       "      <td>neigh</td>\n",
       "      <td>Old Irving Park; IL; Chicago-Naperville-Elgin;...</td>\n",
       "    </tr>\n",
       "    <tr>\n",
       "      <th>7216</th>\n",
       "      <td>403286</td>\n",
       "      <td>neigh</td>\n",
       "      <td>Mayfair; IL; Chicago-Naperville-Elgin; Cook Co...</td>\n",
       "    </tr>\n",
       "    <tr>\n",
       "      <th>7245</th>\n",
       "      <td>403271</td>\n",
       "      <td>neigh</td>\n",
       "      <td>North Mayfair; IL; Chicago-Naperville-Elgin; C...</td>\n",
       "    </tr>\n",
       "    <tr>\n",
       "      <th>8372</th>\n",
       "      <td>403306</td>\n",
       "      <td>neigh</td>\n",
       "      <td>Sheffield Neighbors; IL; Chicago-Naperville-El...</td>\n",
       "    </tr>\n",
       "  </tbody>\n",
       "</table>\n",
       "</div>"
      ],
      "text/plain": [
       "      region_id region_type                                             region\n",
       "3705     403295       neigh  Lake View East; IL; Chicago-Naperville-Elgin; ...\n",
       "5918     403288       neigh  Old Irving Park; IL; Chicago-Naperville-Elgin;...\n",
       "7216     403286       neigh  Mayfair; IL; Chicago-Naperville-Elgin; Cook Co...\n",
       "7245     403271       neigh  North Mayfair; IL; Chicago-Naperville-Elgin; C...\n",
       "8372     403306       neigh  Sheffield Neighbors; IL; Chicago-Naperville-El..."
      ]
     },
     "execution_count": 246,
     "metadata": {},
     "output_type": "execute_result"
    }
   ],
   "source": [
    "#investigate data frame\n",
    "neigh_regions.head()"
   ]
  },
  {
   "cell_type": "code",
   "execution_count": 247,
   "metadata": {},
   "outputs": [],
   "source": [
    "#split the \"region\" column\n",
    "split_region = neigh_regions['region'].str.split(';', n=5, expand=True)\n",
    "split_region.columns = ['neighborhood', 'state', 'state_region', 'county', 'city']"
   ]
  },
  {
   "cell_type": "code",
   "execution_count": 248,
   "metadata": {},
   "outputs": [],
   "source": [
    "# Concatenating the split columns with the original DataFrame\n",
    "neigh_regions = pd.concat([neigh_regions, split_region], axis=1)\n",
    "\n",
    "# Dropping the original 'region' column\n",
    "neigh_regions.drop(columns=['region'], inplace=True)"
   ]
  },
  {
   "cell_type": "code",
   "execution_count": 249,
   "metadata": {},
   "outputs": [
    {
     "name": "stdout",
     "output_type": "stream",
     "text": [
      "<class 'pandas.core.frame.DataFrame'>\n",
      "Index: 563 entries, 3705 to 84483\n",
      "Data columns (total 7 columns):\n",
      " #   Column        Non-Null Count  Dtype \n",
      "---  ------        --------------  ----- \n",
      " 0   region_id     563 non-null    int64 \n",
      " 1   region_type   563 non-null    object\n",
      " 2   neighborhood  563 non-null    object\n",
      " 3   state         563 non-null    object\n",
      " 4   state_region  563 non-null    object\n",
      " 5   county        563 non-null    object\n",
      " 6   city          563 non-null    object\n",
      "dtypes: int64(1), object(6)\n",
      "memory usage: 35.2+ KB\n"
     ]
    }
   ],
   "source": [
    "#check the dataframe\n",
    "neigh_regions.info()"
   ]
  },
  {
   "cell_type": "code",
   "execution_count": 250,
   "metadata": {},
   "outputs": [
    {
     "data": {
      "text/html": [
       "<div>\n",
       "<style scoped>\n",
       "    .dataframe tbody tr th:only-of-type {\n",
       "        vertical-align: middle;\n",
       "    }\n",
       "\n",
       "    .dataframe tbody tr th {\n",
       "        vertical-align: top;\n",
       "    }\n",
       "\n",
       "    .dataframe thead th {\n",
       "        text-align: right;\n",
       "    }\n",
       "</style>\n",
       "<table border=\"1\" class=\"dataframe\">\n",
       "  <thead>\n",
       "    <tr style=\"text-align: right;\">\n",
       "      <th></th>\n",
       "      <th>region_id</th>\n",
       "      <th>region_type</th>\n",
       "      <th>neighborhood</th>\n",
       "      <th>state</th>\n",
       "      <th>state_region</th>\n",
       "      <th>county</th>\n",
       "      <th>city</th>\n",
       "    </tr>\n",
       "  </thead>\n",
       "  <tbody>\n",
       "    <tr>\n",
       "      <th>3705</th>\n",
       "      <td>403295</td>\n",
       "      <td>neigh</td>\n",
       "      <td>Lake View East</td>\n",
       "      <td>IL</td>\n",
       "      <td>Chicago-Naperville-Elgin</td>\n",
       "      <td>Cook County</td>\n",
       "      <td>Chicago</td>\n",
       "    </tr>\n",
       "    <tr>\n",
       "      <th>5918</th>\n",
       "      <td>403288</td>\n",
       "      <td>neigh</td>\n",
       "      <td>Old Irving Park</td>\n",
       "      <td>IL</td>\n",
       "      <td>Chicago-Naperville-Elgin</td>\n",
       "      <td>Cook County</td>\n",
       "      <td>Chicago</td>\n",
       "    </tr>\n",
       "    <tr>\n",
       "      <th>7216</th>\n",
       "      <td>403286</td>\n",
       "      <td>neigh</td>\n",
       "      <td>Mayfair</td>\n",
       "      <td>IL</td>\n",
       "      <td>Chicago-Naperville-Elgin</td>\n",
       "      <td>Cook County</td>\n",
       "      <td>Chicago</td>\n",
       "    </tr>\n",
       "    <tr>\n",
       "      <th>7245</th>\n",
       "      <td>403271</td>\n",
       "      <td>neigh</td>\n",
       "      <td>North Mayfair</td>\n",
       "      <td>IL</td>\n",
       "      <td>Chicago-Naperville-Elgin</td>\n",
       "      <td>Cook County</td>\n",
       "      <td>Chicago</td>\n",
       "    </tr>\n",
       "    <tr>\n",
       "      <th>8372</th>\n",
       "      <td>403306</td>\n",
       "      <td>neigh</td>\n",
       "      <td>Sheffield Neighbors</td>\n",
       "      <td>IL</td>\n",
       "      <td>Chicago-Naperville-Elgin, IL-IN-WI</td>\n",
       "      <td>Cook County</td>\n",
       "      <td>Chicago</td>\n",
       "    </tr>\n",
       "  </tbody>\n",
       "</table>\n",
       "</div>"
      ],
      "text/plain": [
       "      region_id region_type         neighborhood state  \\\n",
       "3705     403295       neigh       Lake View East    IL   \n",
       "5918     403288       neigh      Old Irving Park    IL   \n",
       "7216     403286       neigh              Mayfair    IL   \n",
       "7245     403271       neigh        North Mayfair    IL   \n",
       "8372     403306       neigh  Sheffield Neighbors    IL   \n",
       "\n",
       "                             state_region        county      city  \n",
       "3705             Chicago-Naperville-Elgin   Cook County   Chicago  \n",
       "5918             Chicago-Naperville-Elgin   Cook County   Chicago  \n",
       "7216             Chicago-Naperville-Elgin   Cook County   Chicago  \n",
       "7245             Chicago-Naperville-Elgin   Cook County   Chicago  \n",
       "8372   Chicago-Naperville-Elgin, IL-IN-WI   Cook County   Chicago  "
      ]
     },
     "execution_count": 250,
     "metadata": {},
     "output_type": "execute_result"
    }
   ],
   "source": [
    "#view the final dataframe\n",
    "neigh_regions.head()"
   ]
  },
  {
   "cell_type": "markdown",
   "metadata": {},
   "source": [
    "Zipcode Dataframe Cleaning"
   ]
  },
  {
   "cell_type": "code",
   "execution_count": 251,
   "metadata": {},
   "outputs": [
    {
     "data": {
      "text/html": [
       "<div>\n",
       "<style scoped>\n",
       "    .dataframe tbody tr th:only-of-type {\n",
       "        vertical-align: middle;\n",
       "    }\n",
       "\n",
       "    .dataframe tbody tr th {\n",
       "        vertical-align: top;\n",
       "    }\n",
       "\n",
       "    .dataframe thead th {\n",
       "        text-align: right;\n",
       "    }\n",
       "</style>\n",
       "<table border=\"1\" class=\"dataframe\">\n",
       "  <thead>\n",
       "    <tr style=\"text-align: right;\">\n",
       "      <th></th>\n",
       "      <th>region_id</th>\n",
       "      <th>region_type</th>\n",
       "      <th>region</th>\n",
       "    </tr>\n",
       "  </thead>\n",
       "  <tbody>\n",
       "    <tr>\n",
       "      <th>34764</th>\n",
       "      <td>78144</td>\n",
       "      <td>zip</td>\n",
       "      <td>46411; IN; Chicago-Naperville-Elgin; Whiting;L...</td>\n",
       "    </tr>\n",
       "    <tr>\n",
       "      <th>45696</th>\n",
       "      <td>84392</td>\n",
       "      <td>zip</td>\n",
       "      <td>60141; IL; Chicago-Naperville-Elgin; Broadview...</td>\n",
       "    </tr>\n",
       "    <tr>\n",
       "      <th>45776</th>\n",
       "      <td>84630</td>\n",
       "      <td>zip</td>\n",
       "      <td>60629;IL;Chicago-Naperville-Elgin, IL-IN-WI;Ch...</td>\n",
       "    </tr>\n",
       "    <tr>\n",
       "      <th>45797</th>\n",
       "      <td>84620</td>\n",
       "      <td>zip</td>\n",
       "      <td>60618;IL;Chicago-Naperville-Elgin, IL-IN-WI;Ch...</td>\n",
       "    </tr>\n",
       "    <tr>\n",
       "      <th>45805</th>\n",
       "      <td>84639</td>\n",
       "      <td>zip</td>\n",
       "      <td>60639;IL;Chicago-Naperville-Elgin, IL-IN-WI;Ch...</td>\n",
       "    </tr>\n",
       "  </tbody>\n",
       "</table>\n",
       "</div>"
      ],
      "text/plain": [
       "       region_id region_type  \\\n",
       "34764      78144         zip   \n",
       "45696      84392         zip   \n",
       "45776      84630         zip   \n",
       "45797      84620         zip   \n",
       "45805      84639         zip   \n",
       "\n",
       "                                                  region  \n",
       "34764  46411; IN; Chicago-Naperville-Elgin; Whiting;L...  \n",
       "45696  60141; IL; Chicago-Naperville-Elgin; Broadview...  \n",
       "45776  60629;IL;Chicago-Naperville-Elgin, IL-IN-WI;Ch...  \n",
       "45797  60618;IL;Chicago-Naperville-Elgin, IL-IN-WI;Ch...  \n",
       "45805  60639;IL;Chicago-Naperville-Elgin, IL-IN-WI;Ch...  "
      ]
     },
     "execution_count": 251,
     "metadata": {},
     "output_type": "execute_result"
    }
   ],
   "source": [
    "#investigate the dataframe\n",
    "zip_regions.head()"
   ]
  },
  {
   "cell_type": "code",
   "execution_count": 252,
   "metadata": {},
   "outputs": [],
   "source": [
    "#split the \"region\" column\n",
    "split_region = zip_regions['region'].str.split(';', n=5, expand=True)\n",
    "split_region.columns = ['zipcode', 'state', 'state_region', 'city', 'county', 'blank']"
   ]
  },
  {
   "cell_type": "code",
   "execution_count": 253,
   "metadata": {},
   "outputs": [],
   "source": [
    "# Concatenating the split columns with the original DataFrame\n",
    "zip_regions = pd.concat([zip_regions, split_region], axis=1)\n",
    "\n",
    "# Dropping the original 'region' column\n",
    "zip_regions.drop(columns=['region'], inplace=True)\n",
    "zip_regions.drop(columns=['blank'], inplace=True)"
   ]
  },
  {
   "cell_type": "code",
   "execution_count": 254,
   "metadata": {},
   "outputs": [
    {
     "data": {
      "text/html": [
       "<div>\n",
       "<style scoped>\n",
       "    .dataframe tbody tr th:only-of-type {\n",
       "        vertical-align: middle;\n",
       "    }\n",
       "\n",
       "    .dataframe tbody tr th {\n",
       "        vertical-align: top;\n",
       "    }\n",
       "\n",
       "    .dataframe thead th {\n",
       "        text-align: right;\n",
       "    }\n",
       "</style>\n",
       "<table border=\"1\" class=\"dataframe\">\n",
       "  <thead>\n",
       "    <tr style=\"text-align: right;\">\n",
       "      <th></th>\n",
       "      <th>region_id</th>\n",
       "      <th>region_type</th>\n",
       "      <th>zipcode</th>\n",
       "      <th>state</th>\n",
       "      <th>state_region</th>\n",
       "      <th>city</th>\n",
       "      <th>county</th>\n",
       "    </tr>\n",
       "  </thead>\n",
       "  <tbody>\n",
       "    <tr>\n",
       "      <th>34764</th>\n",
       "      <td>78144</td>\n",
       "      <td>zip</td>\n",
       "      <td>46411</td>\n",
       "      <td>IN</td>\n",
       "      <td>Chicago-Naperville-Elgin</td>\n",
       "      <td>Whiting</td>\n",
       "      <td>Lake County</td>\n",
       "    </tr>\n",
       "    <tr>\n",
       "      <th>45696</th>\n",
       "      <td>84392</td>\n",
       "      <td>zip</td>\n",
       "      <td>60141</td>\n",
       "      <td>IL</td>\n",
       "      <td>Chicago-Naperville-Elgin</td>\n",
       "      <td>Broadview</td>\n",
       "      <td>Cook County</td>\n",
       "    </tr>\n",
       "    <tr>\n",
       "      <th>45776</th>\n",
       "      <td>84630</td>\n",
       "      <td>zip</td>\n",
       "      <td>60629</td>\n",
       "      <td>IL</td>\n",
       "      <td>Chicago-Naperville-Elgin, IL-IN-WI</td>\n",
       "      <td>Chicago</td>\n",
       "      <td>Cook County</td>\n",
       "    </tr>\n",
       "    <tr>\n",
       "      <th>45797</th>\n",
       "      <td>84620</td>\n",
       "      <td>zip</td>\n",
       "      <td>60618</td>\n",
       "      <td>IL</td>\n",
       "      <td>Chicago-Naperville-Elgin, IL-IN-WI</td>\n",
       "      <td>Chicago</td>\n",
       "      <td>Cook County</td>\n",
       "    </tr>\n",
       "    <tr>\n",
       "      <th>45805</th>\n",
       "      <td>84639</td>\n",
       "      <td>zip</td>\n",
       "      <td>60639</td>\n",
       "      <td>IL</td>\n",
       "      <td>Chicago-Naperville-Elgin, IL-IN-WI</td>\n",
       "      <td>Chicago</td>\n",
       "      <td>Cook County</td>\n",
       "    </tr>\n",
       "  </tbody>\n",
       "</table>\n",
       "</div>"
      ],
      "text/plain": [
       "       region_id region_type zipcode state  \\\n",
       "34764      78144         zip   46411    IN   \n",
       "45696      84392         zip   60141    IL   \n",
       "45776      84630         zip   60629    IL   \n",
       "45797      84620         zip   60618    IL   \n",
       "45805      84639         zip   60639    IL   \n",
       "\n",
       "                             state_region        city        county  \n",
       "34764            Chicago-Naperville-Elgin     Whiting   Lake County  \n",
       "45696            Chicago-Naperville-Elgin   Broadview   Cook County  \n",
       "45776  Chicago-Naperville-Elgin, IL-IN-WI     Chicago   Cook County  \n",
       "45797  Chicago-Naperville-Elgin, IL-IN-WI     Chicago   Cook County  \n",
       "45805  Chicago-Naperville-Elgin, IL-IN-WI     Chicago   Cook County  "
      ]
     },
     "execution_count": 254,
     "metadata": {},
     "output_type": "execute_result"
    }
   ],
   "source": [
    "#view the final dataframe\n",
    "zip_regions.head()"
   ]
  },
  {
   "cell_type": "code",
   "execution_count": 255,
   "metadata": {},
   "outputs": [
    {
     "data": {
      "text/plain": [
       "county\n",
       "Cook County        164\n",
       "Lake County         54\n",
       "DuPage County       36\n",
       "Will County         30\n",
       "McHenry County      19\n",
       "Kane County         19\n",
       "DeKalb County       12\n",
       "Kenosha County      10\n",
       "Grundy County        8\n",
       "Porter County        8\n",
       "Kendall County       7\n",
       "Newton County        6\n",
       "Jasper County        5\n",
       " Kane County         3\n",
       " Kenosha County      2\n",
       " Cook County         1\n",
       " DeKalb County       1\n",
       " Kendall County      1\n",
       " DuPage County       1\n",
       " Newton County       1\n",
       " Porter County       1\n",
       "Name: count, dtype: int64"
      ]
     },
     "execution_count": 255,
     "metadata": {},
     "output_type": "execute_result"
    }
   ],
   "source": [
    "#check that the county info is correct\n",
    "zip_regions[\"county\"].value_counts()"
   ]
  },
  {
   "cell_type": "markdown",
   "metadata": {},
   "source": [
    "Metro Region DataFrame Cleaning"
   ]
  },
  {
   "cell_type": "code",
   "execution_count": 256,
   "metadata": {},
   "outputs": [
    {
     "data": {
      "text/html": [
       "<div>\n",
       "<style scoped>\n",
       "    .dataframe tbody tr th:only-of-type {\n",
       "        vertical-align: middle;\n",
       "    }\n",
       "\n",
       "    .dataframe tbody tr th {\n",
       "        vertical-align: top;\n",
       "    }\n",
       "\n",
       "    .dataframe thead th {\n",
       "        text-align: right;\n",
       "    }\n",
       "</style>\n",
       "<table border=\"1\" class=\"dataframe\">\n",
       "  <thead>\n",
       "    <tr style=\"text-align: right;\">\n",
       "      <th></th>\n",
       "      <th>region_id</th>\n",
       "      <th>region_type</th>\n",
       "      <th>region</th>\n",
       "    </tr>\n",
       "  </thead>\n",
       "  <tbody>\n",
       "    <tr>\n",
       "      <th>89098</th>\n",
       "      <td>394463</td>\n",
       "      <td>metro</td>\n",
       "      <td>Chicago, IL</td>\n",
       "    </tr>\n",
       "  </tbody>\n",
       "</table>\n",
       "</div>"
      ],
      "text/plain": [
       "       region_id region_type       region\n",
       "89098     394463       metro  Chicago, IL"
      ]
     },
     "execution_count": 256,
     "metadata": {},
     "output_type": "execute_result"
    }
   ],
   "source": [
    "#investigate metro region\n",
    "metro_regions.head()"
   ]
  },
  {
   "cell_type": "code",
   "execution_count": 257,
   "metadata": {},
   "outputs": [],
   "source": [
    "#clean data by splitting \"region\" column\n",
    "split_region = metro_regions['region'].str.split(',', n=1, expand=True)\n",
    "split_region.columns = ['city', 'state']"
   ]
  },
  {
   "cell_type": "code",
   "execution_count": 258,
   "metadata": {},
   "outputs": [],
   "source": [
    "# Concatenating the split columns with the original DataFrame\n",
    "metro_regions = pd.concat([metro_regions, split_region], axis=1)\n",
    "\n",
    "# Dropping the original 'region' column\n",
    "metro_regions.drop(columns=['region'], inplace=True)"
   ]
  },
  {
   "cell_type": "code",
   "execution_count": 260,
   "metadata": {},
   "outputs": [
    {
     "data": {
      "text/html": [
       "<div>\n",
       "<style scoped>\n",
       "    .dataframe tbody tr th:only-of-type {\n",
       "        vertical-align: middle;\n",
       "    }\n",
       "\n",
       "    .dataframe tbody tr th {\n",
       "        vertical-align: top;\n",
       "    }\n",
       "\n",
       "    .dataframe thead th {\n",
       "        text-align: right;\n",
       "    }\n",
       "</style>\n",
       "<table border=\"1\" class=\"dataframe\">\n",
       "  <thead>\n",
       "    <tr style=\"text-align: right;\">\n",
       "      <th></th>\n",
       "      <th>region_id</th>\n",
       "      <th>region_type</th>\n",
       "      <th>city</th>\n",
       "      <th>state</th>\n",
       "    </tr>\n",
       "  </thead>\n",
       "  <tbody>\n",
       "    <tr>\n",
       "      <th>89098</th>\n",
       "      <td>394463</td>\n",
       "      <td>metro</td>\n",
       "      <td>Chicago</td>\n",
       "      <td>IL</td>\n",
       "    </tr>\n",
       "  </tbody>\n",
       "</table>\n",
       "</div>"
      ],
      "text/plain": [
       "       region_id region_type     city state\n",
       "89098     394463       metro  Chicago    IL"
      ]
     },
     "execution_count": 260,
     "metadata": {},
     "output_type": "execute_result"
    }
   ],
   "source": [
    "#view dataframe\n",
    "metro_regions"
   ]
  },
  {
   "cell_type": "code",
   "execution_count": 262,
   "metadata": {},
   "outputs": [],
   "source": [
    "# Export categories_df and subcategories_df as CSV files.\n",
    "metro_regions.to_csv(\"Resources/metro regions.csv\", index=False)\n",
    "zip_regions.to_csv(\"Resources/zip regions.csv\", index=False)\n",
    "neigh_regions.to_csv(\"Resources/neigh regions.csv\", index=False)\n",
    "city_regions.to_csv(\"Resources/city regions.csv\", index=False)\n",
    "county_regions.to_csv(\"Resources/county regions.csv\", index=False)"
   ]
  },
  {
   "cell_type": "code",
   "execution_count": null,
   "metadata": {},
   "outputs": [],
   "source": [
    "base_url = \"https://data.nasdaq.com/api/v3/datatables/ZILLOW/DATA?indicator_id=ZSFH&region_id={region}&api_key={api_key}\""
   ]
  }
 ],
 "metadata": {
  "kernelspec": {
   "display_name": "dev",
   "language": "python",
   "name": "python3"
  },
  "language_info": {
   "codemirror_mode": {
    "name": "ipython",
    "version": 3
   },
   "file_extension": ".py",
   "mimetype": "text/x-python",
   "name": "python",
   "nbconvert_exporter": "python",
   "pygments_lexer": "ipython3",
   "version": "3.10.13"
  }
 },
 "nbformat": 4,
 "nbformat_minor": 2
}
