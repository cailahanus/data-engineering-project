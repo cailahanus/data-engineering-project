{
 "cells": [
  {
   "cell_type": "markdown",
   "metadata": {},
   "source": [
    "## Region Type seperation"
   ]
  },
  {
   "cell_type": "code",
   "execution_count": 83,
   "metadata": {},
   "outputs": [],
   "source": [
    "#import libraries\n",
    "import pandas as pd\n",
    "from pydantic import BaseModel, ValidationError #for validation"
   ]
  },
  {
   "cell_type": "code",
   "execution_count": 84,
   "metadata": {},
   "outputs": [],
   "source": [
    "# Pydantic library utilized for validation (utilized for every new API pull forward)\n",
    "#Resources: https://docs.pydantic.dev/latest/#pydantic-examples, https://docs.pydantic.dev/latest/concepts/dataclasses/#json-dumping, Xpert Learning Assistant\n",
    "class Region(BaseModel):\n",
    "    region_id: int #must be an integerFil\n",
    "    region_type: str # These are all named types\n",
    "    region: str # string data (mixture of varaibles and strings)"
   ]
  },
  {
   "cell_type": "code",
   "execution_count": 85,
   "metadata": {},
   "outputs": [
    {
     "data": {
      "text/plain": [
       "city      10417\n",
       "neigh     10122\n",
       "zip        3701\n",
       "county     3006\n",
       "metro       632\n",
       "Name: region_type, dtype: int64"
      ]
     },
     "execution_count": 85,
     "metadata": {},
     "output_type": "execute_result"
    }
   ],
   "source": [
    "#Region type counts\n",
    "regions= pd.read_csv('Clean_data/Regions.csv')\n",
    "\n",
    "regions['region_type'].value_counts()"
   ]
  },
  {
   "cell_type": "code",
   "execution_count": 86,
   "metadata": {},
   "outputs": [],
   "source": [
    "# Validate each row using Pydantic\n",
    "#Resources: https://docs.pydantic.dev/latest/#pydantic-examples\n",
    "errors = []\n",
    "for index, row in regions.iterrows(): #itterate through all rows in Regions.csv\n",
    "    try:\n",
    "        # Convert row to dictionary and validate\n",
    "        region = Region(**row.to_dict())\n",
    "        #print(\"Validation successful for row:\", index)\n",
    "    except ValidationError as e:\n",
    "        print(f\"Validation error in row {index}: {e}\")\n",
    "        errors.append((index, str(e)))\n",
    "\n",
    "# errors found, needed to correct string before we split\n",
    "if errors:\n",
    "    print(f\"There were validation errors in {len(errors)} rows.\")"
   ]
  },
  {
   "cell_type": "code",
   "execution_count": 87,
   "metadata": {},
   "outputs": [],
   "source": [
    "#Splitting by type\n",
    "city_df= regions[regions['region_type']=='city'].copy()\n",
    "neigh_df= regions[regions['region_type']=='neigh'].copy()\n",
    "zip_df= regions[regions['region_type']=='zip'].copy()\n",
    "county_df= regions[regions['region_type']=='county'].copy()\n",
    "metro_df= regions[regions['region_type']=='metro'].copy()\n"
   ]
  },
  {
   "cell_type": "code",
   "execution_count": 88,
   "metadata": {},
   "outputs": [
    {
     "data": {
      "text/html": [
       "<div>\n",
       "<style scoped>\n",
       "    .dataframe tbody tr th:only-of-type {\n",
       "        vertical-align: middle;\n",
       "    }\n",
       "\n",
       "    .dataframe tbody tr th {\n",
       "        vertical-align: top;\n",
       "    }\n",
       "\n",
       "    .dataframe thead th {\n",
       "        text-align: right;\n",
       "    }\n",
       "</style>\n",
       "<table border=\"1\" class=\"dataframe\">\n",
       "  <thead>\n",
       "    <tr style=\"text-align: right;\">\n",
       "      <th></th>\n",
       "      <th>region_id</th>\n",
       "      <th>region_type</th>\n",
       "      <th>City</th>\n",
       "      <th>State</th>\n",
       "      <th>Metro_Area</th>\n",
       "      <th>County</th>\n",
       "    </tr>\n",
       "  </thead>\n",
       "  <tbody>\n",
       "    <tr>\n",
       "      <th>1</th>\n",
       "      <td>26591</td>\n",
       "      <td>city</td>\n",
       "      <td>Port Leyden</td>\n",
       "      <td>NY</td>\n",
       "      <td>&lt;NA&gt;</td>\n",
       "      <td>Lewis County</td>\n",
       "    </tr>\n",
       "    <tr>\n",
       "      <th>2</th>\n",
       "      <td>3986</td>\n",
       "      <td>city</td>\n",
       "      <td>Carson</td>\n",
       "      <td>VA</td>\n",
       "      <td>Richmond, VA</td>\n",
       "      <td>Dinwiddie County</td>\n",
       "    </tr>\n",
       "    <tr>\n",
       "      <th>3</th>\n",
       "      <td>6626</td>\n",
       "      <td>city</td>\n",
       "      <td>Princeton</td>\n",
       "      <td>IA</td>\n",
       "      <td>Davenport-Moline-Rock Island, IA-IL</td>\n",
       "      <td>Scott County</td>\n",
       "    </tr>\n",
       "    <tr>\n",
       "      <th>4</th>\n",
       "      <td>49285</td>\n",
       "      <td>city</td>\n",
       "      <td>Jackson</td>\n",
       "      <td>NH</td>\n",
       "      <td>&lt;NA&gt;</td>\n",
       "      <td>Carroll County</td>\n",
       "    </tr>\n",
       "    <tr>\n",
       "      <th>5</th>\n",
       "      <td>42441</td>\n",
       "      <td>city</td>\n",
       "      <td>Dorset</td>\n",
       "      <td>OH</td>\n",
       "      <td>Ashtabula, OH</td>\n",
       "      <td>Ashtabula County</td>\n",
       "    </tr>\n",
       "  </tbody>\n",
       "</table>\n",
       "</div>"
      ],
      "text/plain": [
       "   region_id region_type         City State  \\\n",
       "1      26591        city  Port Leyden    NY   \n",
       "2       3986        city       Carson    VA   \n",
       "3       6626        city    Princeton    IA   \n",
       "4      49285        city      Jackson    NH   \n",
       "5      42441        city       Dorset    OH   \n",
       "\n",
       "                            Metro_Area            County  \n",
       "1                                 <NA>      Lewis County  \n",
       "2                         Richmond, VA  Dinwiddie County  \n",
       "3  Davenport-Moline-Rock Island, IA-IL      Scott County  \n",
       "4                                 <NA>    Carroll County  \n",
       "5                        Ashtabula, OH  Ashtabula County  "
      ]
     },
     "execution_count": 88,
     "metadata": {},
     "output_type": "execute_result"
    }
   ],
   "source": [
    "#city\n",
    "city_df[['City', 'State', 'Metro_Area', 'County']] = city_df['region'].str.split(';', expand=True)\n",
    "#replacing NA's\n",
    "city_df['Metro_Area'] = city_df['Metro_Area'].replace('nan', pd.NA)\n",
    "# Drop the 'region' column\n",
    "city_df.drop(columns='region', inplace=True)\n",
    "\n",
    "city_df.head()"
   ]
  },
  {
   "cell_type": "code",
   "execution_count": 89,
   "metadata": {},
   "outputs": [
    {
     "data": {
      "text/plain": [
       "region_id       int64\n",
       "region_type    object\n",
       "City           object\n",
       "State          object\n",
       "Metro_Area     object\n",
       "County         object\n",
       "dtype: object"
      ]
     },
     "execution_count": 89,
     "metadata": {},
     "output_type": "execute_result"
    }
   ],
   "source": [
    "city_df.dtypes"
   ]
  },
  {
   "cell_type": "code",
   "execution_count": 90,
   "metadata": {},
   "outputs": [
    {
     "data": {
      "text/html": [
       "<div>\n",
       "<style scoped>\n",
       "    .dataframe tbody tr th:only-of-type {\n",
       "        vertical-align: middle;\n",
       "    }\n",
       "\n",
       "    .dataframe tbody tr th {\n",
       "        vertical-align: top;\n",
       "    }\n",
       "\n",
       "    .dataframe thead th {\n",
       "        text-align: right;\n",
       "    }\n",
       "</style>\n",
       "<table border=\"1\" class=\"dataframe\">\n",
       "  <thead>\n",
       "    <tr style=\"text-align: right;\">\n",
       "      <th></th>\n",
       "      <th>region_id</th>\n",
       "      <th>region_type</th>\n",
       "      <th>Neighborhood</th>\n",
       "      <th>State</th>\n",
       "      <th>Metro_Area</th>\n",
       "      <th>City</th>\n",
       "      <th>County</th>\n",
       "    </tr>\n",
       "  </thead>\n",
       "  <tbody>\n",
       "    <tr>\n",
       "      <th>0</th>\n",
       "      <td>403211</td>\n",
       "      <td>neigh</td>\n",
       "      <td>Longwood</td>\n",
       "      <td>NY</td>\n",
       "      <td>New York-Newark-Jersey City, NY-NJ-PA</td>\n",
       "      <td>New York</td>\n",
       "      <td>Bronx County</td>\n",
       "    </tr>\n",
       "    <tr>\n",
       "      <th>18</th>\n",
       "      <td>271495</td>\n",
       "      <td>neigh</td>\n",
       "      <td>North Dallas</td>\n",
       "      <td>TX</td>\n",
       "      <td>Dallas-Fort Worth-Arlington, TX</td>\n",
       "      <td>Dallas County</td>\n",
       "      <td>Dallas</td>\n",
       "    </tr>\n",
       "    <tr>\n",
       "      <th>36</th>\n",
       "      <td>343208</td>\n",
       "      <td>neigh</td>\n",
       "      <td>Highbridge</td>\n",
       "      <td>NY</td>\n",
       "      <td>New York-Newark-Jersey City, NY-NJ-PA</td>\n",
       "      <td>New York</td>\n",
       "      <td>Bronx County</td>\n",
       "    </tr>\n",
       "    <tr>\n",
       "      <th>48</th>\n",
       "      <td>270891</td>\n",
       "      <td>neigh</td>\n",
       "      <td>Morningside Heights</td>\n",
       "      <td>NY</td>\n",
       "      <td>New York-Newark-Jersey City, NY-NJ-PA</td>\n",
       "      <td>New York</td>\n",
       "      <td>New York County</td>\n",
       "    </tr>\n",
       "    <tr>\n",
       "      <th>69</th>\n",
       "      <td>403295</td>\n",
       "      <td>neigh</td>\n",
       "      <td>Lake View East</td>\n",
       "      <td>IL</td>\n",
       "      <td>Chicago-Naperville-Elgin</td>\n",
       "      <td>Cook County</td>\n",
       "      <td>Chicago</td>\n",
       "    </tr>\n",
       "  </tbody>\n",
       "</table>\n",
       "</div>"
      ],
      "text/plain": [
       "    region_id region_type         Neighborhood State  \\\n",
       "0      403211       neigh             Longwood    NY   \n",
       "18     271495       neigh         North Dallas    TX   \n",
       "36     343208       neigh           Highbridge    NY   \n",
       "48     270891       neigh  Morningside Heights    NY   \n",
       "69     403295       neigh       Lake View East    IL   \n",
       "\n",
       "                               Metro_Area            City           County  \n",
       "0   New York-Newark-Jersey City, NY-NJ-PA        New York     Bronx County  \n",
       "18        Dallas-Fort Worth-Arlington, TX   Dallas County           Dallas  \n",
       "36  New York-Newark-Jersey City, NY-NJ-PA        New York     Bronx County  \n",
       "48  New York-Newark-Jersey City, NY-NJ-PA        New York  New York County  \n",
       "69               Chicago-Naperville-Elgin     Cook County          Chicago  "
      ]
     },
     "execution_count": 90,
     "metadata": {},
     "output_type": "execute_result"
    }
   ],
   "source": [
    "#Neighborhood\n",
    "neigh_df[['Neighborhood', 'State', 'Metro_Area', 'City', 'County']] = neigh_df['region'].str.split(';', expand=True)\n",
    "# Drop the 'region' column\n",
    "neigh_df.drop(columns='region', inplace=True)\n",
    "\n",
    "neigh_df.head()"
   ]
  },
  {
   "cell_type": "code",
   "execution_count": 91,
   "metadata": {},
   "outputs": [
    {
     "data": {
      "text/plain": [
       "region_id        int64\n",
       "region_type     object\n",
       "Neighborhood    object\n",
       "State           object\n",
       "Metro_Area      object\n",
       "City            object\n",
       "County          object\n",
       "dtype: object"
      ]
     },
     "execution_count": 91,
     "metadata": {},
     "output_type": "execute_result"
    }
   ],
   "source": [
    "neigh_df.dtypes"
   ]
  },
  {
   "cell_type": "code",
   "execution_count": 92,
   "metadata": {},
   "outputs": [
    {
     "data": {
      "text/html": [
       "<div>\n",
       "<style scoped>\n",
       "    .dataframe tbody tr th:only-of-type {\n",
       "        vertical-align: middle;\n",
       "    }\n",
       "\n",
       "    .dataframe tbody tr th {\n",
       "        vertical-align: top;\n",
       "    }\n",
       "\n",
       "    .dataframe thead th {\n",
       "        text-align: right;\n",
       "    }\n",
       "</style>\n",
       "<table border=\"1\" class=\"dataframe\">\n",
       "  <thead>\n",
       "    <tr style=\"text-align: right;\">\n",
       "      <th></th>\n",
       "      <th>region_id</th>\n",
       "      <th>region_type</th>\n",
       "      <th>Zipcode</th>\n",
       "      <th>State</th>\n",
       "      <th>Metro_Area</th>\n",
       "      <th>City</th>\n",
       "      <th>County</th>\n",
       "    </tr>\n",
       "  </thead>\n",
       "  <tbody>\n",
       "    <tr>\n",
       "      <th>2246</th>\n",
       "      <td>58924</td>\n",
       "      <td>zip</td>\n",
       "      <td>2826</td>\n",
       "      <td>RI</td>\n",
       "      <td>Providence-Warwick, RI-MA</td>\n",
       "      <td>Burrillville</td>\n",
       "      <td>Providence County</td>\n",
       "    </tr>\n",
       "    <tr>\n",
       "      <th>2572</th>\n",
       "      <td>58472</td>\n",
       "      <td>zip</td>\n",
       "      <td>1745</td>\n",
       "      <td>MA</td>\n",
       "      <td>Worcester, MA-CT</td>\n",
       "      <td>&lt;NA&gt;</td>\n",
       "      <td>Worcester County</td>\n",
       "    </tr>\n",
       "    <tr>\n",
       "      <th>3008</th>\n",
       "      <td>98400</td>\n",
       "      <td>zip</td>\n",
       "      <td>95721</td>\n",
       "      <td>CA</td>\n",
       "      <td>Sacramento-Roseville-Folsom, CA</td>\n",
       "      <td>South Lake Tahoe</td>\n",
       "      <td>El Dorado County</td>\n",
       "    </tr>\n",
       "    <tr>\n",
       "      <th>3062</th>\n",
       "      <td>98402</td>\n",
       "      <td>zip</td>\n",
       "      <td>95724</td>\n",
       "      <td>CA</td>\n",
       "      <td>Sacramento-Roseville-Folsom, CA</td>\n",
       "      <td>&lt;NA&gt;</td>\n",
       "      <td>Placer County</td>\n",
       "    </tr>\n",
       "    <tr>\n",
       "      <th>3129</th>\n",
       "      <td>95851</td>\n",
       "      <td>zip</td>\n",
       "      <td>89155</td>\n",
       "      <td>NV</td>\n",
       "      <td>Las Vegas-Henderson-Paradise, NV</td>\n",
       "      <td>Las Vegas</td>\n",
       "      <td>Clark County</td>\n",
       "    </tr>\n",
       "  </tbody>\n",
       "</table>\n",
       "</div>"
      ],
      "text/plain": [
       "      region_id region_type Zipcode State                        Metro_Area  \\\n",
       "2246      58924         zip    2826    RI         Providence-Warwick, RI-MA   \n",
       "2572      58472         zip    1745    MA                  Worcester, MA-CT   \n",
       "3008      98400         zip   95721    CA   Sacramento-Roseville-Folsom, CA   \n",
       "3062      98402         zip   95724    CA   Sacramento-Roseville-Folsom, CA   \n",
       "3129      95851         zip   89155    NV  Las Vegas-Henderson-Paradise, NV   \n",
       "\n",
       "                  City             County  \n",
       "2246      Burrillville  Providence County  \n",
       "2572              <NA>   Worcester County  \n",
       "3008  South Lake Tahoe   El Dorado County  \n",
       "3062              <NA>      Placer County  \n",
       "3129         Las Vegas       Clark County  "
      ]
     },
     "execution_count": 92,
     "metadata": {},
     "output_type": "execute_result"
    }
   ],
   "source": [
    "#zipcode\n",
    "zip_df[['Zipcode', 'State', 'Metro_Area', 'City', 'County']] = zip_df['region'].str.split(';', expand=True)\n",
    "#replacing NA's\n",
    "zip_df['City'] = zip_df['City'].replace('nan', pd.NA)\n",
    "# Drop the 'region' column\n",
    "zip_df.drop(columns='region', inplace=True)\n",
    "\n",
    "zip_df.head()"
   ]
  },
  {
   "cell_type": "code",
   "execution_count": 93,
   "metadata": {},
   "outputs": [
    {
     "data": {
      "text/html": [
       "<div>\n",
       "<style scoped>\n",
       "    .dataframe tbody tr th:only-of-type {\n",
       "        vertical-align: middle;\n",
       "    }\n",
       "\n",
       "    .dataframe tbody tr th {\n",
       "        vertical-align: top;\n",
       "    }\n",
       "\n",
       "    .dataframe thead th {\n",
       "        text-align: right;\n",
       "    }\n",
       "</style>\n",
       "<table border=\"1\" class=\"dataframe\">\n",
       "  <thead>\n",
       "    <tr style=\"text-align: right;\">\n",
       "      <th></th>\n",
       "      <th>region_id</th>\n",
       "      <th>region_type</th>\n",
       "      <th>Zipcode</th>\n",
       "      <th>State</th>\n",
       "      <th>Metro_Area</th>\n",
       "      <th>City</th>\n",
       "      <th>County</th>\n",
       "    </tr>\n",
       "  </thead>\n",
       "  <tbody>\n",
       "    <tr>\n",
       "      <th>2246</th>\n",
       "      <td>58924</td>\n",
       "      <td>zip</td>\n",
       "      <td>02826</td>\n",
       "      <td>RI</td>\n",
       "      <td>Providence-Warwick, RI-MA</td>\n",
       "      <td>Burrillville</td>\n",
       "      <td>Providence County</td>\n",
       "    </tr>\n",
       "    <tr>\n",
       "      <th>2572</th>\n",
       "      <td>58472</td>\n",
       "      <td>zip</td>\n",
       "      <td>01745</td>\n",
       "      <td>MA</td>\n",
       "      <td>Worcester, MA-CT</td>\n",
       "      <td>&lt;NA&gt;</td>\n",
       "      <td>Worcester County</td>\n",
       "    </tr>\n",
       "    <tr>\n",
       "      <th>3008</th>\n",
       "      <td>98400</td>\n",
       "      <td>zip</td>\n",
       "      <td>95721</td>\n",
       "      <td>CA</td>\n",
       "      <td>Sacramento-Roseville-Folsom, CA</td>\n",
       "      <td>South Lake Tahoe</td>\n",
       "      <td>El Dorado County</td>\n",
       "    </tr>\n",
       "    <tr>\n",
       "      <th>3062</th>\n",
       "      <td>98402</td>\n",
       "      <td>zip</td>\n",
       "      <td>95724</td>\n",
       "      <td>CA</td>\n",
       "      <td>Sacramento-Roseville-Folsom, CA</td>\n",
       "      <td>&lt;NA&gt;</td>\n",
       "      <td>Placer County</td>\n",
       "    </tr>\n",
       "    <tr>\n",
       "      <th>3129</th>\n",
       "      <td>95851</td>\n",
       "      <td>zip</td>\n",
       "      <td>89155</td>\n",
       "      <td>NV</td>\n",
       "      <td>Las Vegas-Henderson-Paradise, NV</td>\n",
       "      <td>Las Vegas</td>\n",
       "      <td>Clark County</td>\n",
       "    </tr>\n",
       "  </tbody>\n",
       "</table>\n",
       "</div>"
      ],
      "text/plain": [
       "      region_id region_type Zipcode State                        Metro_Area  \\\n",
       "2246      58924         zip   02826    RI         Providence-Warwick, RI-MA   \n",
       "2572      58472         zip   01745    MA                  Worcester, MA-CT   \n",
       "3008      98400         zip   95721    CA   Sacramento-Roseville-Folsom, CA   \n",
       "3062      98402         zip   95724    CA   Sacramento-Roseville-Folsom, CA   \n",
       "3129      95851         zip   89155    NV  Las Vegas-Henderson-Paradise, NV   \n",
       "\n",
       "                  City             County  \n",
       "2246      Burrillville  Providence County  \n",
       "2572              <NA>   Worcester County  \n",
       "3008  South Lake Tahoe   El Dorado County  \n",
       "3062              <NA>      Placer County  \n",
       "3129         Las Vegas       Clark County  "
      ]
     },
     "execution_count": 93,
     "metadata": {},
     "output_type": "execute_result"
    }
   ],
   "source": [
    "#Clean zipcodes, some of these are missing a digit.\n",
    "zip_df['Zipcode'] = zip_df['Zipcode'].astype(int).apply(lambda x: f'{x:05d}')\n",
    "zip_df.head()"
   ]
  },
  {
   "cell_type": "code",
   "execution_count": 94,
   "metadata": {},
   "outputs": [
    {
     "data": {
      "text/plain": [
       "region_id       int64\n",
       "region_type    object\n",
       "Zipcode        object\n",
       "State          object\n",
       "Metro_Area     object\n",
       "City           object\n",
       "County         object\n",
       "dtype: object"
      ]
     },
     "execution_count": 94,
     "metadata": {},
     "output_type": "execute_result"
    }
   ],
   "source": [
    "zip_df.dtypes"
   ]
  },
  {
   "cell_type": "code",
   "execution_count": 95,
   "metadata": {},
   "outputs": [
    {
     "data": {
      "text/html": [
       "<div>\n",
       "<style scoped>\n",
       "    .dataframe tbody tr th:only-of-type {\n",
       "        vertical-align: middle;\n",
       "    }\n",
       "\n",
       "    .dataframe tbody tr th {\n",
       "        vertical-align: top;\n",
       "    }\n",
       "\n",
       "    .dataframe thead th {\n",
       "        text-align: right;\n",
       "    }\n",
       "</style>\n",
       "<table border=\"1\" class=\"dataframe\">\n",
       "  <thead>\n",
       "    <tr style=\"text-align: right;\">\n",
       "      <th></th>\n",
       "      <th>region_id</th>\n",
       "      <th>region_type</th>\n",
       "      <th>County_Name</th>\n",
       "      <th>State</th>\n",
       "      <th>Metro_Area</th>\n",
       "    </tr>\n",
       "  </thead>\n",
       "  <tbody>\n",
       "    <tr>\n",
       "      <th>40</th>\n",
       "      <td>2375</td>\n",
       "      <td>county</td>\n",
       "      <td>Lamoille County</td>\n",
       "      <td>VT</td>\n",
       "      <td>&lt;NA&gt;</td>\n",
       "    </tr>\n",
       "    <tr>\n",
       "      <th>41</th>\n",
       "      <td>865</td>\n",
       "      <td>county</td>\n",
       "      <td>Benton County</td>\n",
       "      <td>IA</td>\n",
       "      <td>Cedar Rapids, IA</td>\n",
       "    </tr>\n",
       "    <tr>\n",
       "      <th>42</th>\n",
       "      <td>2481</td>\n",
       "      <td>county</td>\n",
       "      <td>Plymouth County</td>\n",
       "      <td>IA</td>\n",
       "      <td>&lt;NA&gt;</td>\n",
       "    </tr>\n",
       "    <tr>\n",
       "      <th>43</th>\n",
       "      <td>703</td>\n",
       "      <td>county</td>\n",
       "      <td>Salem City</td>\n",
       "      <td>VA</td>\n",
       "      <td>Roanoke, VA</td>\n",
       "    </tr>\n",
       "    <tr>\n",
       "      <th>44</th>\n",
       "      <td>568</td>\n",
       "      <td>county</td>\n",
       "      <td>Iosco County</td>\n",
       "      <td>MI</td>\n",
       "      <td>&lt;NA&gt;</td>\n",
       "    </tr>\n",
       "  </tbody>\n",
       "</table>\n",
       "</div>"
      ],
      "text/plain": [
       "    region_id region_type      County_Name State        Metro_Area\n",
       "40       2375      county  Lamoille County    VT              <NA>\n",
       "41        865      county    Benton County    IA  Cedar Rapids, IA\n",
       "42       2481      county  Plymouth County    IA              <NA>\n",
       "43        703      county       Salem City    VA       Roanoke, VA\n",
       "44        568      county     Iosco County    MI              <NA>"
      ]
     },
     "execution_count": 95,
     "metadata": {},
     "output_type": "execute_result"
    }
   ],
   "source": [
    "#county\n",
    "county_df[['County_Name', 'State', 'Metro_Area']] = county_df['region'].str.split(';', expand=True)\n",
    "county_df['Metro_Area'] = county_df['Metro_Area'].replace('nan', pd.NA)\n",
    "# Drop the 'region' column\n",
    "county_df.drop(columns='region', inplace=True)\n",
    "county_df.head()"
   ]
  },
  {
   "cell_type": "code",
   "execution_count": 96,
   "metadata": {},
   "outputs": [
    {
     "data": {
      "text/plain": [
       "region_id       int64\n",
       "region_type    object\n",
       "County_Name    object\n",
       "State          object\n",
       "Metro_Area     object\n",
       "dtype: object"
      ]
     },
     "execution_count": 96,
     "metadata": {},
     "output_type": "execute_result"
    }
   ],
   "source": [
    "county_df.dtypes"
   ]
  },
  {
   "cell_type": "code",
   "execution_count": 97,
   "metadata": {},
   "outputs": [
    {
     "data": {
      "text/html": [
       "<div>\n",
       "<style scoped>\n",
       "    .dataframe tbody tr th:only-of-type {\n",
       "        vertical-align: middle;\n",
       "    }\n",
       "\n",
       "    .dataframe tbody tr th {\n",
       "        vertical-align: top;\n",
       "    }\n",
       "\n",
       "    .dataframe thead th {\n",
       "        text-align: right;\n",
       "    }\n",
       "</style>\n",
       "<table border=\"1\" class=\"dataframe\">\n",
       "  <thead>\n",
       "    <tr style=\"text-align: right;\">\n",
       "      <th></th>\n",
       "      <th>region_id</th>\n",
       "      <th>region_type</th>\n",
       "      <th>Metro_Name</th>\n",
       "      <th>State</th>\n",
       "    </tr>\n",
       "  </thead>\n",
       "  <tbody>\n",
       "    <tr>\n",
       "      <th>403</th>\n",
       "      <td>394859</td>\n",
       "      <td>metro</td>\n",
       "      <td>Midland</td>\n",
       "      <td>MI</td>\n",
       "    </tr>\n",
       "    <tr>\n",
       "      <th>475</th>\n",
       "      <td>395082</td>\n",
       "      <td>metro</td>\n",
       "      <td>Selinsgrove</td>\n",
       "      <td>PA</td>\n",
       "    </tr>\n",
       "    <tr>\n",
       "      <th>626</th>\n",
       "      <td>394801</td>\n",
       "      <td>metro</td>\n",
       "      <td>Logansport</td>\n",
       "      <td>IN</td>\n",
       "    </tr>\n",
       "    <tr>\n",
       "      <th>764</th>\n",
       "      <td>394419</td>\n",
       "      <td>metro</td>\n",
       "      <td>Brookings</td>\n",
       "      <td>SD</td>\n",
       "    </tr>\n",
       "    <tr>\n",
       "      <th>1133</th>\n",
       "      <td>394642</td>\n",
       "      <td>metro</td>\n",
       "      <td>Grants</td>\n",
       "      <td>NM</td>\n",
       "    </tr>\n",
       "  </tbody>\n",
       "</table>\n",
       "</div>"
      ],
      "text/plain": [
       "      region_id region_type   Metro_Name State\n",
       "403      394859       metro      Midland    MI\n",
       "475      395082       metro  Selinsgrove    PA\n",
       "626      394801       metro   Logansport    IN\n",
       "764      394419       metro    Brookings    SD\n",
       "1133     394642       metro       Grants    NM"
      ]
     },
     "execution_count": 97,
     "metadata": {},
     "output_type": "execute_result"
    }
   ],
   "source": [
    "#metro\n",
    "metro_df[['Metro_Name', 'State']] = metro_df['region'].str.split(', ', expand=True)\n",
    "# Drop the 'region' column\n",
    "metro_df.drop(columns='region', inplace=True)\n",
    "metro_df.head()"
   ]
  },
  {
   "cell_type": "code",
   "execution_count": 98,
   "metadata": {},
   "outputs": [
    {
     "data": {
      "text/plain": [
       "region_id       int64\n",
       "region_type    object\n",
       "Metro_Name     object\n",
       "State          object\n",
       "dtype: object"
      ]
     },
     "execution_count": 98,
     "metadata": {},
     "output_type": "execute_result"
    }
   ],
   "source": [
    "metro_df.dtypes"
   ]
  },
  {
   "cell_type": "markdown",
   "metadata": {},
   "source": [
    "## CSV File extractions"
   ]
  },
  {
   "cell_type": "code",
   "execution_count": 99,
   "metadata": {},
   "outputs": [],
   "source": [
    "#Paths to CSV files\n",
    "Split_path = 'Region_split/City.csv'\n",
    "Split_path2 = 'Region_split/Neighborhood.csv'\n",
    "Split_path3 = 'Region_split/Zip.csv'\n",
    "Split_path4 = 'Region_split/County.csv'\n",
    "Split_path5 = 'Region_split/Metro.csv'"
   ]
  },
  {
   "cell_type": "code",
   "execution_count": 100,
   "metadata": {},
   "outputs": [],
   "source": [
    "city_df.to_csv(Split_path, index=False)\n",
    "neigh_df.to_csv(Split_path2, index=False)\n",
    "zip_df.to_csv(Split_path3, index=False)\n",
    "county_df.to_csv(Split_path4, index=False)\n",
    "metro_df.to_csv(Split_path5, index=False)\n"
   ]
  }
 ],
 "metadata": {
  "kernelspec": {
   "display_name": "dev",
   "language": "python",
   "name": "python3"
  },
  "language_info": {
   "codemirror_mode": {
    "name": "ipython",
    "version": 3
   },
   "file_extension": ".py",
   "mimetype": "text/x-python",
   "name": "python",
   "nbconvert_exporter": "python",
   "pygments_lexer": "ipython3",
   "version": "3.10.13"
  }
 },
 "nbformat": 4,
 "nbformat_minor": 2
}
