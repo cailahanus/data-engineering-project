{
 "cells": [
  {
   "cell_type": "markdown",
   "metadata": {},
   "source": [
    "## Region Type seperation"
   ]
  },
  {
   "cell_type": "code",
   "execution_count": 23,
   "metadata": {},
   "outputs": [],
   "source": [
    "#import libraries\n",
    "import pandas as pd"
   ]
  },
  {
   "cell_type": "code",
   "execution_count": 24,
   "metadata": {},
   "outputs": [
    {
     "data": {
      "text/plain": [
       "city      10417\n",
       "neigh     10122\n",
       "zip        3701\n",
       "county     3006\n",
       "metro       632\n",
       "Name: region_type, dtype: int64"
      ]
     },
     "execution_count": 24,
     "metadata": {},
     "output_type": "execute_result"
    }
   ],
   "source": [
    "#Region type counts\n",
    "regions= pd.read_csv('Clean_data/Regions.csv')\n",
    "\n",
    "regions['region_type'].value_counts()"
   ]
  },
  {
   "cell_type": "code",
   "execution_count": 25,
   "metadata": {},
   "outputs": [
    {
     "data": {
      "text/plain": [
       "region_id       int64\n",
       "region_type    object\n",
       "region         object\n",
       "dtype: object"
      ]
     },
     "execution_count": 25,
     "metadata": {},
     "output_type": "execute_result"
    }
   ],
   "source": [
    "regions.dtypes"
   ]
  },
  {
   "cell_type": "code",
   "execution_count": 26,
   "metadata": {},
   "outputs": [],
   "source": [
    "#Splitting by type\n",
    "city_df= regions[regions['region_type']=='city'].copy()\n",
    "neigh_df= regions[regions['region_type']=='neigh'].copy()\n",
    "zip_df= regions[regions['region_type']=='zip'].copy()\n",
    "county_df= regions[regions['region_type']=='county'].copy()\n",
    "metro_df= regions[regions['region_type']=='metro'].copy()\n"
   ]
  },
  {
   "cell_type": "code",
   "execution_count": 27,
   "metadata": {},
   "outputs": [
    {
     "data": {
      "text/html": [
       "<div>\n",
       "<style scoped>\n",
       "    .dataframe tbody tr th:only-of-type {\n",
       "        vertical-align: middle;\n",
       "    }\n",
       "\n",
       "    .dataframe tbody tr th {\n",
       "        vertical-align: top;\n",
       "    }\n",
       "\n",
       "    .dataframe thead th {\n",
       "        text-align: right;\n",
       "    }\n",
       "</style>\n",
       "<table border=\"1\" class=\"dataframe\">\n",
       "  <thead>\n",
       "    <tr style=\"text-align: right;\">\n",
       "      <th></th>\n",
       "      <th>region_id</th>\n",
       "      <th>region_type</th>\n",
       "      <th>region</th>\n",
       "      <th>City</th>\n",
       "      <th>State</th>\n",
       "      <th>Metro Area</th>\n",
       "      <th>County</th>\n",
       "    </tr>\n",
       "  </thead>\n",
       "  <tbody>\n",
       "    <tr>\n",
       "      <th>1</th>\n",
       "      <td>26591</td>\n",
       "      <td>city</td>\n",
       "      <td>Port Leyden;NY;nan;Lewis County</td>\n",
       "      <td>Port Leyden</td>\n",
       "      <td>NY</td>\n",
       "      <td>&lt;NA&gt;</td>\n",
       "      <td>Lewis County</td>\n",
       "    </tr>\n",
       "    <tr>\n",
       "      <th>2</th>\n",
       "      <td>3986</td>\n",
       "      <td>city</td>\n",
       "      <td>Carson;VA;Richmond, VA;Dinwiddie County</td>\n",
       "      <td>Carson</td>\n",
       "      <td>VA</td>\n",
       "      <td>Richmond, VA</td>\n",
       "      <td>Dinwiddie County</td>\n",
       "    </tr>\n",
       "    <tr>\n",
       "      <th>3</th>\n",
       "      <td>6626</td>\n",
       "      <td>city</td>\n",
       "      <td>Princeton;IA;Davenport-Moline-Rock Island, IA-...</td>\n",
       "      <td>Princeton</td>\n",
       "      <td>IA</td>\n",
       "      <td>Davenport-Moline-Rock Island, IA-IL</td>\n",
       "      <td>Scott County</td>\n",
       "    </tr>\n",
       "    <tr>\n",
       "      <th>4</th>\n",
       "      <td>49285</td>\n",
       "      <td>city</td>\n",
       "      <td>Jackson;NH;nan;Carroll County</td>\n",
       "      <td>Jackson</td>\n",
       "      <td>NH</td>\n",
       "      <td>&lt;NA&gt;</td>\n",
       "      <td>Carroll County</td>\n",
       "    </tr>\n",
       "    <tr>\n",
       "      <th>5</th>\n",
       "      <td>42441</td>\n",
       "      <td>city</td>\n",
       "      <td>Dorset;OH;Ashtabula, OH;Ashtabula County</td>\n",
       "      <td>Dorset</td>\n",
       "      <td>OH</td>\n",
       "      <td>Ashtabula, OH</td>\n",
       "      <td>Ashtabula County</td>\n",
       "    </tr>\n",
       "  </tbody>\n",
       "</table>\n",
       "</div>"
      ],
      "text/plain": [
       "   region_id region_type                                             region  \\\n",
       "1      26591        city                    Port Leyden;NY;nan;Lewis County   \n",
       "2       3986        city            Carson;VA;Richmond, VA;Dinwiddie County   \n",
       "3       6626        city  Princeton;IA;Davenport-Moline-Rock Island, IA-...   \n",
       "4      49285        city                      Jackson;NH;nan;Carroll County   \n",
       "5      42441        city           Dorset;OH;Ashtabula, OH;Ashtabula County   \n",
       "\n",
       "          City State                           Metro Area            County  \n",
       "1  Port Leyden    NY                                 <NA>      Lewis County  \n",
       "2       Carson    VA                         Richmond, VA  Dinwiddie County  \n",
       "3    Princeton    IA  Davenport-Moline-Rock Island, IA-IL      Scott County  \n",
       "4      Jackson    NH                                 <NA>    Carroll County  \n",
       "5       Dorset    OH                        Ashtabula, OH  Ashtabula County  "
      ]
     },
     "execution_count": 27,
     "metadata": {},
     "output_type": "execute_result"
    }
   ],
   "source": [
    "#city\n",
    "city_df[['City', 'State', 'Metro Area', 'County']] = city_df['region'].str.split(';', expand=True)\n",
    "#replacing NA's\n",
    "city_df['Metro Area'] = city_df['Metro Area'].replace('nan', pd.NA)\n",
    "city_df.head()"
   ]
  },
  {
   "cell_type": "code",
   "execution_count": 28,
   "metadata": {},
   "outputs": [
    {
     "data": {
      "text/plain": [
       "region_id       int64\n",
       "region_type    object\n",
       "region         object\n",
       "City           object\n",
       "State          object\n",
       "Metro Area     object\n",
       "County         object\n",
       "dtype: object"
      ]
     },
     "execution_count": 28,
     "metadata": {},
     "output_type": "execute_result"
    }
   ],
   "source": [
    "city_df.dtypes"
   ]
  },
  {
   "cell_type": "code",
   "execution_count": 29,
   "metadata": {},
   "outputs": [
    {
     "data": {
      "text/html": [
       "<div>\n",
       "<style scoped>\n",
       "    .dataframe tbody tr th:only-of-type {\n",
       "        vertical-align: middle;\n",
       "    }\n",
       "\n",
       "    .dataframe tbody tr th {\n",
       "        vertical-align: top;\n",
       "    }\n",
       "\n",
       "    .dataframe thead th {\n",
       "        text-align: right;\n",
       "    }\n",
       "</style>\n",
       "<table border=\"1\" class=\"dataframe\">\n",
       "  <thead>\n",
       "    <tr style=\"text-align: right;\">\n",
       "      <th></th>\n",
       "      <th>region_id</th>\n",
       "      <th>region_type</th>\n",
       "      <th>region</th>\n",
       "      <th>Neighborhood</th>\n",
       "      <th>State</th>\n",
       "      <th>Metro Area</th>\n",
       "      <th>City</th>\n",
       "      <th>County</th>\n",
       "    </tr>\n",
       "  </thead>\n",
       "  <tbody>\n",
       "    <tr>\n",
       "      <th>0</th>\n",
       "      <td>403211</td>\n",
       "      <td>neigh</td>\n",
       "      <td>Longwood;NY;New York-Newark-Jersey City, NY-NJ...</td>\n",
       "      <td>Longwood</td>\n",
       "      <td>NY</td>\n",
       "      <td>New York-Newark-Jersey City, NY-NJ-PA</td>\n",
       "      <td>New York</td>\n",
       "      <td>Bronx County</td>\n",
       "    </tr>\n",
       "    <tr>\n",
       "      <th>18</th>\n",
       "      <td>271495</td>\n",
       "      <td>neigh</td>\n",
       "      <td>North Dallas; TX; Dallas-Fort Worth-Arlington,...</td>\n",
       "      <td>North Dallas</td>\n",
       "      <td>TX</td>\n",
       "      <td>Dallas-Fort Worth-Arlington, TX</td>\n",
       "      <td>Dallas County</td>\n",
       "      <td>Dallas</td>\n",
       "    </tr>\n",
       "    <tr>\n",
       "      <th>36</th>\n",
       "      <td>343208</td>\n",
       "      <td>neigh</td>\n",
       "      <td>Highbridge;NY;New York-Newark-Jersey City, NY-...</td>\n",
       "      <td>Highbridge</td>\n",
       "      <td>NY</td>\n",
       "      <td>New York-Newark-Jersey City, NY-NJ-PA</td>\n",
       "      <td>New York</td>\n",
       "      <td>Bronx County</td>\n",
       "    </tr>\n",
       "    <tr>\n",
       "      <th>48</th>\n",
       "      <td>270891</td>\n",
       "      <td>neigh</td>\n",
       "      <td>Morningside Heights;NY;New York-Newark-Jersey ...</td>\n",
       "      <td>Morningside Heights</td>\n",
       "      <td>NY</td>\n",
       "      <td>New York-Newark-Jersey City, NY-NJ-PA</td>\n",
       "      <td>New York</td>\n",
       "      <td>New York County</td>\n",
       "    </tr>\n",
       "    <tr>\n",
       "      <th>69</th>\n",
       "      <td>403295</td>\n",
       "      <td>neigh</td>\n",
       "      <td>Lake View East; IL; Chicago-Naperville-Elgin; ...</td>\n",
       "      <td>Lake View East</td>\n",
       "      <td>IL</td>\n",
       "      <td>Chicago-Naperville-Elgin</td>\n",
       "      <td>Cook County</td>\n",
       "      <td>Chicago</td>\n",
       "    </tr>\n",
       "  </tbody>\n",
       "</table>\n",
       "</div>"
      ],
      "text/plain": [
       "    region_id region_type                                             region  \\\n",
       "0      403211       neigh  Longwood;NY;New York-Newark-Jersey City, NY-NJ...   \n",
       "18     271495       neigh  North Dallas; TX; Dallas-Fort Worth-Arlington,...   \n",
       "36     343208       neigh  Highbridge;NY;New York-Newark-Jersey City, NY-...   \n",
       "48     270891       neigh  Morningside Heights;NY;New York-Newark-Jersey ...   \n",
       "69     403295       neigh  Lake View East; IL; Chicago-Naperville-Elgin; ...   \n",
       "\n",
       "           Neighborhood State                             Metro Area  \\\n",
       "0              Longwood    NY  New York-Newark-Jersey City, NY-NJ-PA   \n",
       "18         North Dallas    TX        Dallas-Fort Worth-Arlington, TX   \n",
       "36           Highbridge    NY  New York-Newark-Jersey City, NY-NJ-PA   \n",
       "48  Morningside Heights    NY  New York-Newark-Jersey City, NY-NJ-PA   \n",
       "69       Lake View East    IL               Chicago-Naperville-Elgin   \n",
       "\n",
       "              City           County  \n",
       "0         New York     Bronx County  \n",
       "18   Dallas County           Dallas  \n",
       "36        New York     Bronx County  \n",
       "48        New York  New York County  \n",
       "69     Cook County          Chicago  "
      ]
     },
     "execution_count": 29,
     "metadata": {},
     "output_type": "execute_result"
    }
   ],
   "source": [
    "#Neighborhood\n",
    "neigh_df[['Neighborhood', 'State', 'Metro Area', 'City', 'County']] = neigh_df['region'].str.split(';', expand=True)\n",
    "neigh_df.head()"
   ]
  },
  {
   "cell_type": "code",
   "execution_count": 30,
   "metadata": {},
   "outputs": [
    {
     "data": {
      "text/plain": [
       "region_id        int64\n",
       "region_type     object\n",
       "region          object\n",
       "Neighborhood    object\n",
       "State           object\n",
       "Metro Area      object\n",
       "City            object\n",
       "County          object\n",
       "dtype: object"
      ]
     },
     "execution_count": 30,
     "metadata": {},
     "output_type": "execute_result"
    }
   ],
   "source": [
    "neigh_df.dtypes"
   ]
  },
  {
   "cell_type": "code",
   "execution_count": 31,
   "metadata": {},
   "outputs": [
    {
     "data": {
      "text/html": [
       "<div>\n",
       "<style scoped>\n",
       "    .dataframe tbody tr th:only-of-type {\n",
       "        vertical-align: middle;\n",
       "    }\n",
       "\n",
       "    .dataframe tbody tr th {\n",
       "        vertical-align: top;\n",
       "    }\n",
       "\n",
       "    .dataframe thead th {\n",
       "        text-align: right;\n",
       "    }\n",
       "</style>\n",
       "<table border=\"1\" class=\"dataframe\">\n",
       "  <thead>\n",
       "    <tr style=\"text-align: right;\">\n",
       "      <th></th>\n",
       "      <th>region_id</th>\n",
       "      <th>region_type</th>\n",
       "      <th>region</th>\n",
       "      <th>Zipcode</th>\n",
       "      <th>State</th>\n",
       "      <th>Metro Area</th>\n",
       "      <th>City</th>\n",
       "      <th>County</th>\n",
       "    </tr>\n",
       "  </thead>\n",
       "  <tbody>\n",
       "    <tr>\n",
       "      <th>2246</th>\n",
       "      <td>58924</td>\n",
       "      <td>zip</td>\n",
       "      <td>2826;RI;Providence-Warwick, RI-MA;Burrillville...</td>\n",
       "      <td>2826</td>\n",
       "      <td>RI</td>\n",
       "      <td>Providence-Warwick, RI-MA</td>\n",
       "      <td>Burrillville</td>\n",
       "      <td>Providence County</td>\n",
       "    </tr>\n",
       "    <tr>\n",
       "      <th>2572</th>\n",
       "      <td>58472</td>\n",
       "      <td>zip</td>\n",
       "      <td>1745;MA;Worcester, MA-CT;nan;Worcester County</td>\n",
       "      <td>1745</td>\n",
       "      <td>MA</td>\n",
       "      <td>Worcester, MA-CT</td>\n",
       "      <td>nan</td>\n",
       "      <td>Worcester County</td>\n",
       "    </tr>\n",
       "    <tr>\n",
       "      <th>3008</th>\n",
       "      <td>98400</td>\n",
       "      <td>zip</td>\n",
       "      <td>95721;CA;Sacramento-Roseville-Folsom, CA;South...</td>\n",
       "      <td>95721</td>\n",
       "      <td>CA</td>\n",
       "      <td>Sacramento-Roseville-Folsom, CA</td>\n",
       "      <td>South Lake Tahoe</td>\n",
       "      <td>El Dorado County</td>\n",
       "    </tr>\n",
       "    <tr>\n",
       "      <th>3062</th>\n",
       "      <td>98402</td>\n",
       "      <td>zip</td>\n",
       "      <td>95724;CA;Sacramento-Roseville-Folsom, CA;nan;P...</td>\n",
       "      <td>95724</td>\n",
       "      <td>CA</td>\n",
       "      <td>Sacramento-Roseville-Folsom, CA</td>\n",
       "      <td>nan</td>\n",
       "      <td>Placer County</td>\n",
       "    </tr>\n",
       "    <tr>\n",
       "      <th>3129</th>\n",
       "      <td>95851</td>\n",
       "      <td>zip</td>\n",
       "      <td>89155;NV;Las Vegas-Henderson-Paradise, NV;Las ...</td>\n",
       "      <td>89155</td>\n",
       "      <td>NV</td>\n",
       "      <td>Las Vegas-Henderson-Paradise, NV</td>\n",
       "      <td>Las Vegas</td>\n",
       "      <td>Clark County</td>\n",
       "    </tr>\n",
       "  </tbody>\n",
       "</table>\n",
       "</div>"
      ],
      "text/plain": [
       "      region_id region_type  \\\n",
       "2246      58924         zip   \n",
       "2572      58472         zip   \n",
       "3008      98400         zip   \n",
       "3062      98402         zip   \n",
       "3129      95851         zip   \n",
       "\n",
       "                                                 region Zipcode State  \\\n",
       "2246  2826;RI;Providence-Warwick, RI-MA;Burrillville...    2826    RI   \n",
       "2572      1745;MA;Worcester, MA-CT;nan;Worcester County    1745    MA   \n",
       "3008  95721;CA;Sacramento-Roseville-Folsom, CA;South...   95721    CA   \n",
       "3062  95724;CA;Sacramento-Roseville-Folsom, CA;nan;P...   95724    CA   \n",
       "3129  89155;NV;Las Vegas-Henderson-Paradise, NV;Las ...   89155    NV   \n",
       "\n",
       "                            Metro Area              City             County  \n",
       "2246         Providence-Warwick, RI-MA      Burrillville  Providence County  \n",
       "2572                  Worcester, MA-CT               nan   Worcester County  \n",
       "3008   Sacramento-Roseville-Folsom, CA  South Lake Tahoe   El Dorado County  \n",
       "3062   Sacramento-Roseville-Folsom, CA               nan      Placer County  \n",
       "3129  Las Vegas-Henderson-Paradise, NV         Las Vegas       Clark County  "
      ]
     },
     "execution_count": 31,
     "metadata": {},
     "output_type": "execute_result"
    }
   ],
   "source": [
    "#zipcode\n",
    "zip_df[['Zipcode', 'State', 'Metro Area', 'City', 'County']] = zip_df['region'].str.split(';', expand=True)\n",
    "zip_df.head()"
   ]
  },
  {
   "cell_type": "code",
   "execution_count": 32,
   "metadata": {},
   "outputs": [
    {
     "data": {
      "text/html": [
       "<div>\n",
       "<style scoped>\n",
       "    .dataframe tbody tr th:only-of-type {\n",
       "        vertical-align: middle;\n",
       "    }\n",
       "\n",
       "    .dataframe tbody tr th {\n",
       "        vertical-align: top;\n",
       "    }\n",
       "\n",
       "    .dataframe thead th {\n",
       "        text-align: right;\n",
       "    }\n",
       "</style>\n",
       "<table border=\"1\" class=\"dataframe\">\n",
       "  <thead>\n",
       "    <tr style=\"text-align: right;\">\n",
       "      <th></th>\n",
       "      <th>region_id</th>\n",
       "      <th>region_type</th>\n",
       "      <th>region</th>\n",
       "      <th>Zipcode</th>\n",
       "      <th>State</th>\n",
       "      <th>Metro Area</th>\n",
       "      <th>City</th>\n",
       "      <th>County</th>\n",
       "    </tr>\n",
       "  </thead>\n",
       "  <tbody>\n",
       "    <tr>\n",
       "      <th>2246</th>\n",
       "      <td>58924</td>\n",
       "      <td>zip</td>\n",
       "      <td>2826;RI;Providence-Warwick, RI-MA;Burrillville...</td>\n",
       "      <td>02826</td>\n",
       "      <td>RI</td>\n",
       "      <td>Providence-Warwick, RI-MA</td>\n",
       "      <td>Burrillville</td>\n",
       "      <td>Providence County</td>\n",
       "    </tr>\n",
       "    <tr>\n",
       "      <th>2572</th>\n",
       "      <td>58472</td>\n",
       "      <td>zip</td>\n",
       "      <td>1745;MA;Worcester, MA-CT;nan;Worcester County</td>\n",
       "      <td>01745</td>\n",
       "      <td>MA</td>\n",
       "      <td>Worcester, MA-CT</td>\n",
       "      <td>nan</td>\n",
       "      <td>Worcester County</td>\n",
       "    </tr>\n",
       "    <tr>\n",
       "      <th>3008</th>\n",
       "      <td>98400</td>\n",
       "      <td>zip</td>\n",
       "      <td>95721;CA;Sacramento-Roseville-Folsom, CA;South...</td>\n",
       "      <td>95721</td>\n",
       "      <td>CA</td>\n",
       "      <td>Sacramento-Roseville-Folsom, CA</td>\n",
       "      <td>South Lake Tahoe</td>\n",
       "      <td>El Dorado County</td>\n",
       "    </tr>\n",
       "    <tr>\n",
       "      <th>3062</th>\n",
       "      <td>98402</td>\n",
       "      <td>zip</td>\n",
       "      <td>95724;CA;Sacramento-Roseville-Folsom, CA;nan;P...</td>\n",
       "      <td>95724</td>\n",
       "      <td>CA</td>\n",
       "      <td>Sacramento-Roseville-Folsom, CA</td>\n",
       "      <td>nan</td>\n",
       "      <td>Placer County</td>\n",
       "    </tr>\n",
       "    <tr>\n",
       "      <th>3129</th>\n",
       "      <td>95851</td>\n",
       "      <td>zip</td>\n",
       "      <td>89155;NV;Las Vegas-Henderson-Paradise, NV;Las ...</td>\n",
       "      <td>89155</td>\n",
       "      <td>NV</td>\n",
       "      <td>Las Vegas-Henderson-Paradise, NV</td>\n",
       "      <td>Las Vegas</td>\n",
       "      <td>Clark County</td>\n",
       "    </tr>\n",
       "  </tbody>\n",
       "</table>\n",
       "</div>"
      ],
      "text/plain": [
       "      region_id region_type  \\\n",
       "2246      58924         zip   \n",
       "2572      58472         zip   \n",
       "3008      98400         zip   \n",
       "3062      98402         zip   \n",
       "3129      95851         zip   \n",
       "\n",
       "                                                 region Zipcode State  \\\n",
       "2246  2826;RI;Providence-Warwick, RI-MA;Burrillville...   02826    RI   \n",
       "2572      1745;MA;Worcester, MA-CT;nan;Worcester County   01745    MA   \n",
       "3008  95721;CA;Sacramento-Roseville-Folsom, CA;South...   95721    CA   \n",
       "3062  95724;CA;Sacramento-Roseville-Folsom, CA;nan;P...   95724    CA   \n",
       "3129  89155;NV;Las Vegas-Henderson-Paradise, NV;Las ...   89155    NV   \n",
       "\n",
       "                            Metro Area              City             County  \n",
       "2246         Providence-Warwick, RI-MA      Burrillville  Providence County  \n",
       "2572                  Worcester, MA-CT               nan   Worcester County  \n",
       "3008   Sacramento-Roseville-Folsom, CA  South Lake Tahoe   El Dorado County  \n",
       "3062   Sacramento-Roseville-Folsom, CA               nan      Placer County  \n",
       "3129  Las Vegas-Henderson-Paradise, NV         Las Vegas       Clark County  "
      ]
     },
     "execution_count": 32,
     "metadata": {},
     "output_type": "execute_result"
    }
   ],
   "source": [
    "#Clean zipcodes, some of these are missing a digit.\n",
    "zip_df['Zipcode'] = zip_df['Zipcode'].astype(int).apply(lambda x: f'{x:05d}')\n",
    "zip_df.head()"
   ]
  },
  {
   "cell_type": "code",
   "execution_count": 33,
   "metadata": {},
   "outputs": [
    {
     "data": {
      "text/plain": [
       "region_id       int64\n",
       "region_type    object\n",
       "region         object\n",
       "Zipcode        object\n",
       "State          object\n",
       "Metro Area     object\n",
       "City           object\n",
       "County         object\n",
       "dtype: object"
      ]
     },
     "execution_count": 33,
     "metadata": {},
     "output_type": "execute_result"
    }
   ],
   "source": [
    "zip_df.dtypes"
   ]
  },
  {
   "cell_type": "code",
   "execution_count": 34,
   "metadata": {},
   "outputs": [
    {
     "data": {
      "text/html": [
       "<div>\n",
       "<style scoped>\n",
       "    .dataframe tbody tr th:only-of-type {\n",
       "        vertical-align: middle;\n",
       "    }\n",
       "\n",
       "    .dataframe tbody tr th {\n",
       "        vertical-align: top;\n",
       "    }\n",
       "\n",
       "    .dataframe thead th {\n",
       "        text-align: right;\n",
       "    }\n",
       "</style>\n",
       "<table border=\"1\" class=\"dataframe\">\n",
       "  <thead>\n",
       "    <tr style=\"text-align: right;\">\n",
       "      <th></th>\n",
       "      <th>region_id</th>\n",
       "      <th>region_type</th>\n",
       "      <th>region</th>\n",
       "      <th>County Name</th>\n",
       "      <th>State</th>\n",
       "      <th>Metro Area</th>\n",
       "    </tr>\n",
       "  </thead>\n",
       "  <tbody>\n",
       "    <tr>\n",
       "      <th>40</th>\n",
       "      <td>2375</td>\n",
       "      <td>county</td>\n",
       "      <td>Lamoille County;VT;nan</td>\n",
       "      <td>Lamoille County</td>\n",
       "      <td>VT</td>\n",
       "      <td>&lt;NA&gt;</td>\n",
       "    </tr>\n",
       "    <tr>\n",
       "      <th>41</th>\n",
       "      <td>865</td>\n",
       "      <td>county</td>\n",
       "      <td>Benton County;IA;Cedar Rapids, IA</td>\n",
       "      <td>Benton County</td>\n",
       "      <td>IA</td>\n",
       "      <td>Cedar Rapids, IA</td>\n",
       "    </tr>\n",
       "    <tr>\n",
       "      <th>42</th>\n",
       "      <td>2481</td>\n",
       "      <td>county</td>\n",
       "      <td>Plymouth County;IA;nan</td>\n",
       "      <td>Plymouth County</td>\n",
       "      <td>IA</td>\n",
       "      <td>&lt;NA&gt;</td>\n",
       "    </tr>\n",
       "    <tr>\n",
       "      <th>43</th>\n",
       "      <td>703</td>\n",
       "      <td>county</td>\n",
       "      <td>Salem City;VA;Roanoke, VA</td>\n",
       "      <td>Salem City</td>\n",
       "      <td>VA</td>\n",
       "      <td>Roanoke, VA</td>\n",
       "    </tr>\n",
       "    <tr>\n",
       "      <th>44</th>\n",
       "      <td>568</td>\n",
       "      <td>county</td>\n",
       "      <td>Iosco County;MI;nan</td>\n",
       "      <td>Iosco County</td>\n",
       "      <td>MI</td>\n",
       "      <td>&lt;NA&gt;</td>\n",
       "    </tr>\n",
       "  </tbody>\n",
       "</table>\n",
       "</div>"
      ],
      "text/plain": [
       "    region_id region_type                             region      County Name  \\\n",
       "40       2375      county             Lamoille County;VT;nan  Lamoille County   \n",
       "41        865      county  Benton County;IA;Cedar Rapids, IA    Benton County   \n",
       "42       2481      county             Plymouth County;IA;nan  Plymouth County   \n",
       "43        703      county          Salem City;VA;Roanoke, VA       Salem City   \n",
       "44        568      county                Iosco County;MI;nan     Iosco County   \n",
       "\n",
       "   State        Metro Area  \n",
       "40    VT              <NA>  \n",
       "41    IA  Cedar Rapids, IA  \n",
       "42    IA              <NA>  \n",
       "43    VA       Roanoke, VA  \n",
       "44    MI              <NA>  "
      ]
     },
     "execution_count": 34,
     "metadata": {},
     "output_type": "execute_result"
    }
   ],
   "source": [
    "#county\n",
    "county_df[['County Name', 'State', 'Metro Area']] = county_df['region'].str.split(';', expand=True)\n",
    "county_df['Metro Area'] = county_df['Metro Area'].replace('nan', pd.NA)\n",
    "county_df.head()"
   ]
  },
  {
   "cell_type": "code",
   "execution_count": 35,
   "metadata": {},
   "outputs": [
    {
     "data": {
      "text/plain": [
       "region_id       int64\n",
       "region_type    object\n",
       "region         object\n",
       "County Name    object\n",
       "State          object\n",
       "Metro Area     object\n",
       "dtype: object"
      ]
     },
     "execution_count": 35,
     "metadata": {},
     "output_type": "execute_result"
    }
   ],
   "source": [
    "county_df.dtypes"
   ]
  },
  {
   "cell_type": "code",
   "execution_count": 36,
   "metadata": {},
   "outputs": [
    {
     "data": {
      "text/html": [
       "<div>\n",
       "<style scoped>\n",
       "    .dataframe tbody tr th:only-of-type {\n",
       "        vertical-align: middle;\n",
       "    }\n",
       "\n",
       "    .dataframe tbody tr th {\n",
       "        vertical-align: top;\n",
       "    }\n",
       "\n",
       "    .dataframe thead th {\n",
       "        text-align: right;\n",
       "    }\n",
       "</style>\n",
       "<table border=\"1\" class=\"dataframe\">\n",
       "  <thead>\n",
       "    <tr style=\"text-align: right;\">\n",
       "      <th></th>\n",
       "      <th>region_id</th>\n",
       "      <th>region_type</th>\n",
       "      <th>region</th>\n",
       "      <th>Metro Name</th>\n",
       "      <th>State</th>\n",
       "    </tr>\n",
       "  </thead>\n",
       "  <tbody>\n",
       "    <tr>\n",
       "      <th>403</th>\n",
       "      <td>394859</td>\n",
       "      <td>metro</td>\n",
       "      <td>Midland, MI</td>\n",
       "      <td>Midland</td>\n",
       "      <td>MI</td>\n",
       "    </tr>\n",
       "    <tr>\n",
       "      <th>475</th>\n",
       "      <td>395082</td>\n",
       "      <td>metro</td>\n",
       "      <td>Selinsgrove, PA</td>\n",
       "      <td>Selinsgrove</td>\n",
       "      <td>PA</td>\n",
       "    </tr>\n",
       "    <tr>\n",
       "      <th>626</th>\n",
       "      <td>394801</td>\n",
       "      <td>metro</td>\n",
       "      <td>Logansport, IN</td>\n",
       "      <td>Logansport</td>\n",
       "      <td>IN</td>\n",
       "    </tr>\n",
       "    <tr>\n",
       "      <th>764</th>\n",
       "      <td>394419</td>\n",
       "      <td>metro</td>\n",
       "      <td>Brookings, SD</td>\n",
       "      <td>Brookings</td>\n",
       "      <td>SD</td>\n",
       "    </tr>\n",
       "    <tr>\n",
       "      <th>1133</th>\n",
       "      <td>394642</td>\n",
       "      <td>metro</td>\n",
       "      <td>Grants, NM</td>\n",
       "      <td>Grants</td>\n",
       "      <td>NM</td>\n",
       "    </tr>\n",
       "  </tbody>\n",
       "</table>\n",
       "</div>"
      ],
      "text/plain": [
       "      region_id region_type           region   Metro Name State\n",
       "403      394859       metro      Midland, MI      Midland    MI\n",
       "475      395082       metro  Selinsgrove, PA  Selinsgrove    PA\n",
       "626      394801       metro   Logansport, IN   Logansport    IN\n",
       "764      394419       metro    Brookings, SD    Brookings    SD\n",
       "1133     394642       metro       Grants, NM       Grants    NM"
      ]
     },
     "execution_count": 36,
     "metadata": {},
     "output_type": "execute_result"
    }
   ],
   "source": [
    "#metro\n",
    "metro_df[['Metro Name', 'State']] = metro_df['region'].str.split(', ', expand=True)\n",
    "metro_df.head()"
   ]
  },
  {
   "cell_type": "code",
   "execution_count": 37,
   "metadata": {},
   "outputs": [
    {
     "data": {
      "text/plain": [
       "region_id       int64\n",
       "region_type    object\n",
       "region         object\n",
       "Metro Name     object\n",
       "State          object\n",
       "dtype: object"
      ]
     },
     "execution_count": 37,
     "metadata": {},
     "output_type": "execute_result"
    }
   ],
   "source": [
    "metro_df.dtypes"
   ]
  },
  {
   "cell_type": "markdown",
   "metadata": {},
   "source": [
    "## CSV File extractions"
   ]
  },
  {
   "cell_type": "code",
   "execution_count": 38,
   "metadata": {},
   "outputs": [],
   "source": [
    "#Paths to CSV files\n",
    "Split_path = 'Region_split/City.csv'\n",
    "Split_path2 = 'Region_split/Neighborhood.csv'\n",
    "Split_path3 = 'Region_split/Zip.csv'\n",
    "Split_path4 = 'Region_split/County.csv'\n",
    "Split_path5 = 'Region_split/Metro.csv'"
   ]
  },
  {
   "cell_type": "code",
   "execution_count": 39,
   "metadata": {},
   "outputs": [],
   "source": [
    "city_df.to_csv(Split_path, index=False)\n",
    "neigh_df.to_csv(Split_path2, index=False)\n",
    "zip_df.to_csv(Split_path3, index=False)\n",
    "county_df.to_csv(Split_path4, index=False)\n",
    "metro_df.to_csv(Split_path5, index=False)\n"
   ]
  }
 ],
 "metadata": {
  "kernelspec": {
   "display_name": "dev",
   "language": "python",
   "name": "python3"
  },
  "language_info": {
   "codemirror_mode": {
    "name": "ipython",
    "version": 3
   },
   "file_extension": ".py",
   "mimetype": "text/x-python",
   "name": "python",
   "nbconvert_exporter": "python",
   "pygments_lexer": "ipython3",
   "version": "3.10.13"
  }
 },
 "nbformat": 4,
 "nbformat_minor": 2
}
